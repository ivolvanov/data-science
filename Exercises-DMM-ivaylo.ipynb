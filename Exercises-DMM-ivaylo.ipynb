{
 "cells": [
  {
   "source": [
    "# Notebook by Ivaylo and Aleksandar"
   ],
   "cell_type": "markdown",
   "metadata": {}
  },
  {
   "cell_type": "markdown",
   "metadata": {},
   "source": [
    "# Programming Lesson and Exercises - DMM<span class=\"tocSkip\"></span>\n",
    "\n",
    "These programming lessons do not require prior programming experience.\n",
    "\n",
    "The goal is to teach you the use of _Python 3_ and the _Jupyter Notebook_ software\n",
    "in the context of _Data Analytics_.\n",
    "\n",
    "<div class=\"alert-info alert\" role=\"alert-info\">While you read this notebook,\n",
    "execute all code cells in linear order\n",
    "from the beginning</div>"
   ]
  },
  {
   "cell_type": "markdown",
   "metadata": {},
   "source": [
    "\n",
    "# Introduction to this template notebook\n",
    "\n",
    "\n",
    "You are expected to work with Python code in this notebook.\n",
    "\n",
    "The locations where you should write your solutions can be recognized by\n",
    "**marker lines**,\n",
    "which look like this:\n",
    "\n",
    ">`#//`\n",
    ">    `BEGIN_TODO [Label]` `Description` `(n points)`\n",
    ">\n",
    ">`#//`\n",
    ">    `END_TODO [Label]`\n",
    "\n",
    "<div class=\"alert alert-warning\" role=\"alert\">Do NOT modify or delete these marker lines.  Keep them as they are.<br/>\n",
    "<br/>\n",
    "NEVER write code <i>outside</i> the marked blocks.\n",
    "Such code cannot be evaluated.\n",
    "</div>\n",
    "\n",
    "Proceed in this notebook as follows:\n",
    "* **Read** the text.\n",
    "* **Fill in** your solutions between `BEGIN_TODO` and `END_TODO` marker lines.\n",
    "* **Run** _all_ code cells (also the ones _without_ your code),\n",
    "    _in linear order_ from the first code cell.\n",
    "\n"
   ]
  },
  {
   "cell_type": "markdown",
   "metadata": {
    "toc": "true"
   },
   "source": [
    "<h1>Table of Contents<span class=\"tocSkip\"></span></h1>\n",
    "<div class=\"toc\"><ul class=\"toc-item\"><li><ul class=\"toc-item\"><li><span><a href=\"#Learning-Objectives-of-This-Lesson\" data-toc-modified-id=\"Learning-Objectives-of-This-Lesson-0.1\">Learning Objectives of This Lesson</a></span></li><li><span><a href=\"#Loading-the-libraries\" data-toc-modified-id=\"Loading-the-libraries-0.2\">Loading the libraries</a></span></li><li><span><a href=\"#Data-sets\" data-toc-modified-id=\"Data-sets-0.3\">Data sets</a></span></li></ul></li><li><span><a href=\"#1.-Linear-Regression\" data-toc-modified-id=\"1.-Linear-Regression-1\"><span class=\"section\" id=\"linear_regression_simple\">1.</span> Linear Regression</a></span><ul class=\"toc-item\"><li><span><a href=\"#Exercises-on-linear-regression\" data-toc-modified-id=\"Exercises-on-linear-regression-1.1\">Exercises on linear regression</a></span></li></ul></li><li><span><a href=\"#2.-Clustering\" data-toc-modified-id=\"2.-Clustering-2\"><span class=\"section\">2.</span> Clustering</a></span><ul class=\"toc-item\"><li><span><a href=\"#Exercises-on-clustering\" data-toc-modified-id=\"Exercises-on-clustering-2.1\">Exercises on clustering</a></span></li></ul></li><li><span><a href=\"#3.-Decision-Tree-Mining\" data-toc-modified-id=\"3.-Decision-Tree-Mining-3\"><span class=\"section\">3.</span> Decision Tree Mining</a></span><ul class=\"toc-item\"><li><span><a href=\"#Exercises-on-decision-trees\" data-toc-modified-id=\"Exercises-on-decision-trees-3.1\">Exercises on decision trees</a></span></li></ul></li><li><span><a href=\"#4.-Accuracy-and-Confusion-Matrix\" data-toc-modified-id=\"4.-Accuracy-and-Confusion-Matrix-4\"><span class=\"section\">4.</span> Accuracy and Confusion Matrix</a></span><ul class=\"toc-item\"><li><span><a href=\"#Exercises-on-accuracy-scores-and-confusion-matrices\" data-toc-modified-id=\"Exercises-on-accuracy-scores-and-confusion-matrices-4.1\">Exercises on accuracy scores and confusion matrices</a></span></li></ul></li><li><span><a href=\"#5.-Exercise:-Different-models-for-linear-regression\" data-toc-modified-id=\"5.-Exercise:-Different-models-for-linear-regression-5\"><span class=\"section\">5.</span> Exercise: Different models for linear regression</a></span></li><li><span><a href=\"#6.-Exercise:-Depths-of-decision-trees\" data-toc-modified-id=\"6.-Exercise:-Depths-of-decision-trees-6\"><span class=\"section\">6.</span> Exercise: Depths of decision trees</a></span></li></ul></div>"
   ]
  },
  {
   "cell_type": "markdown",
   "metadata": {},
   "source": [
    "## Learning Objectives of This Lesson\n",
    "\n",
    "After this lesson, you should\n",
    "\n",
    "* know how to do **linear regression** on data frames\n",
    "* know how to do **k-means clustering** on data frames\n",
    "* know how to do **decision tree mining** on data frames\n",
    "* know how to determine the **$R^2$ quality** parameter of a linear model\n",
    "* know how to determine the **accuracy** and **confusion matrix** of a prediction"
   ]
  },
  {
   "cell_type": "markdown",
   "metadata": {},
   "source": [
    "## Loading the libraries\n",
    "\n",
    "To show examples, we load some Data Analytics libraries first:"
   ]
  },
  {
   "cell_type": "code",
   "execution_count": 26,
   "metadata": {},
   "outputs": [],
   "source": [
    "import numpy as np  # import auxiliary library, typical idiom\n",
    "import pandas as pd  # import the Pandas library, typical idiom\n",
    "\n",
    "# next command ensures that plots appear inside the notebook\n",
    "%matplotlib inline\n",
    "import matplotlib as mpl\n",
    "import matplotlib.pyplot as plt\n",
    "import seaborn as sns  # also improves the look of plots\n",
    "sns.set()\n",
    "plt.rcParams['figure.figsize'] = 10, 5  # default hor./vert. size of plots, in inches\n",
    "plt.rcParams['lines.markeredgewidth'] = 1  # to fix issue with seaborn box plots; needed after import seaborn"
   ]
  },
  {
   "cell_type": "markdown",
   "metadata": {},
   "source": [
    "Now, we selectively import the relevant classes and functions from `sklearn`\n",
    "(_SciKit Learn_, a Python library for machine learning). Its documentation can be found here: http://scikit-learn.org/."
   ]
  },
  {
   "cell_type": "code",
   "execution_count": 40,
   "metadata": {},
   "outputs": [
    {
     "output_type": "error",
     "ename": "ImportError",
     "evalue": "cannot import name 'tree_print' from 'treeviz' (/home/ivo/.local/lib/python3.8/site-packages/treeviz/__init__.py)",
     "traceback": [
      "\u001b[0;31m---------------------------------------------------------------------------\u001b[0m",
      "\u001b[0;31mImportError\u001b[0m                               Traceback (most recent call last)",
      "\u001b[0;32m<ipython-input-40-295318da57e4>\u001b[0m in \u001b[0;36m<module>\u001b[0;34m\u001b[0m\n\u001b[1;32m      4\u001b[0m \u001b[0;32mfrom\u001b[0m \u001b[0msklearn\u001b[0m\u001b[0;34m.\u001b[0m\u001b[0mmetrics\u001b[0m \u001b[0;32mimport\u001b[0m \u001b[0maccuracy_score\u001b[0m\u001b[0;34m,\u001b[0m \u001b[0mconfusion_matrix\u001b[0m\u001b[0;34m,\u001b[0m \u001b[0mmean_squared_error\u001b[0m\u001b[0;34m\u001b[0m\u001b[0;34m\u001b[0m\u001b[0m\n\u001b[1;32m      5\u001b[0m \u001b[0;32mfrom\u001b[0m \u001b[0msklearn\u001b[0m\u001b[0;34m.\u001b[0m\u001b[0mmodel_selection\u001b[0m \u001b[0;32mimport\u001b[0m \u001b[0mtrain_test_split\u001b[0m\u001b[0;34m\u001b[0m\u001b[0;34m\u001b[0m\u001b[0m\n\u001b[0;32m----> 6\u001b[0;31m \u001b[0;32mfrom\u001b[0m \u001b[0mtreeviz\u001b[0m \u001b[0;32mimport\u001b[0m \u001b[0mtree_print\u001b[0m  \u001b[0;31m# to print decision tree\u001b[0m\u001b[0;34m\u001b[0m\u001b[0;34m\u001b[0m\u001b[0m\n\u001b[0m\u001b[1;32m      7\u001b[0m \u001b[0;31m#import treeviz\u001b[0m\u001b[0;34m\u001b[0m\u001b[0;34m\u001b[0m\u001b[0;34m\u001b[0m\u001b[0m\n",
      "\u001b[0;31mImportError\u001b[0m: cannot import name 'tree_print' from 'treeviz' (/home/ivo/.local/lib/python3.8/site-packages/treeviz/__init__.py)"
     ]
    }
   ],
   "source": [
    "from sklearn.linear_model import LinearRegression  # for linear regression\n",
    "from sklearn.cluster import KMeans  # for clustering\n",
    "from sklearn.tree import DecisionTreeClassifier  # for decision tree mining\n",
    "from sklearn.metrics import accuracy_score, confusion_matrix, mean_squared_error\n",
    "from sklearn.model_selection import train_test_split\n",
    "#from treeviz import tree_print  # to print decision tree\n",
    "#import treeviz\n",
    "from sklearn.tree import plot_tree # to replace treeviz"
   ]
  },
  {
   "cell_type": "markdown",
   "metadata": {},
   "source": [
    "### Warning:\n",
    "\n",
    "* Data mining methods are often **non-deterministic**. This means that some of the data mining methods can return different answers every time they are executed, even when the same input data is used."
   ]
  },
  {
   "cell_type": "markdown",
   "metadata": {},
   "source": [
    "## Data sets\n",
    "\n",
    "Throughout this notebook we will use two main data sets. The data mining techniques will be introduced using a synthetic **example data set**, while in many of the exercises you will work on the **Auto MPG data set**."
   ]
  },
  {
   "cell_type": "markdown",
   "metadata": {},
   "source": [
    "### Example data set\n",
    "\n",
    "In order to show you how to use the Scikit Learn Python libraries to do the data mining, we will illustrate the use of the techniques on a running example:\n",
    "a small idealized data set.\n",
    "It does not matter how this is generated.\n",
    "\n",
    "The example data set has two numeric columns labeled `'a'` and `'b'`,\n",
    "and twelve rows."
   ]
  },
  {
   "cell_type": "code",
   "execution_count": 23,
   "metadata": {},
   "outputs": [
    {
     "output_type": "execute_result",
     "data": {
      "text/plain": [
       "    a  b\n",
       "0   0  1\n",
       "1   1  2\n",
       "2   2  1\n",
       "3   3  3\n",
       "4   4  2\n",
       "5   5  3\n",
       "6   4  7\n",
       "7   5  8\n",
       "8   6  7\n",
       "9   7  9\n",
       "10  8  8\n",
       "11  9  9"
      ],
      "text/html": "<div>\n<style scoped>\n    .dataframe tbody tr th:only-of-type {\n        vertical-align: middle;\n    }\n\n    .dataframe tbody tr th {\n        vertical-align: top;\n    }\n\n    .dataframe thead th {\n        text-align: right;\n    }\n</style>\n<table border=\"1\" class=\"dataframe\">\n  <thead>\n    <tr style=\"text-align: right;\">\n      <th></th>\n      <th>a</th>\n      <th>b</th>\n    </tr>\n  </thead>\n  <tbody>\n    <tr>\n      <th>0</th>\n      <td>0</td>\n      <td>1</td>\n    </tr>\n    <tr>\n      <th>1</th>\n      <td>1</td>\n      <td>2</td>\n    </tr>\n    <tr>\n      <th>2</th>\n      <td>2</td>\n      <td>1</td>\n    </tr>\n    <tr>\n      <th>3</th>\n      <td>3</td>\n      <td>3</td>\n    </tr>\n    <tr>\n      <th>4</th>\n      <td>4</td>\n      <td>2</td>\n    </tr>\n    <tr>\n      <th>5</th>\n      <td>5</td>\n      <td>3</td>\n    </tr>\n    <tr>\n      <th>6</th>\n      <td>4</td>\n      <td>7</td>\n    </tr>\n    <tr>\n      <th>7</th>\n      <td>5</td>\n      <td>8</td>\n    </tr>\n    <tr>\n      <th>8</th>\n      <td>6</td>\n      <td>7</td>\n    </tr>\n    <tr>\n      <th>9</th>\n      <td>7</td>\n      <td>9</td>\n    </tr>\n    <tr>\n      <th>10</th>\n      <td>8</td>\n      <td>8</td>\n    </tr>\n    <tr>\n      <th>11</th>\n      <td>9</td>\n      <td>9</td>\n    </tr>\n  </tbody>\n</table>\n</div>"
     },
     "metadata": {},
     "execution_count": 23
    }
   ],
   "source": [
    "df_sk = pd.DataFrame([[0, 1], [1, 2], [2, 1], [3, 3], [4, 2], [5, 3], [4, 7],\n",
    "                      [5, 8], [6, 7], [7, 9], [8, 8], [9, 9]],\n",
    "                        columns=['a', 'b'])\n",
    "df_sk"
   ]
  },
  {
   "cell_type": "markdown",
   "metadata": {},
   "source": [
    "Here is a scatter plot:"
   ]
  },
  {
   "cell_type": "code",
   "execution_count": null,
   "metadata": {},
   "outputs": [],
   "source": [
    "df_sk.plot(kind='scatter', x='a', y='b', s=50, c='r');"
   ]
  },
  {
   "cell_type": "markdown",
   "metadata": {},
   "source": [
    "This reveals some structure in the data."
   ]
  },
  {
   "cell_type": "markdown",
   "metadata": {},
   "source": [
    "### Auto MPG data set\n",
    "\n",
    "In the exercises you will apply the data mining techniques to find patterns in a data set containing information about the fuel efficiency of cars.\n",
    "\n",
    "The original Auto MPG data set for these exercises can be accessed at\n",
    "https://archive.ics.uci.edu/ml/machine-learning-databases/auto-mpg/.\n",
    "It explores the fuel efficiency of cars, measured in Miles Per Gallon (MPG):\n",
    "the higher this number, the more efficient the car.\n",
    "Some background information is available in http://lib.stat.cmu.edu/datasets/cars.desc.\n",
    "\n",
    "Here is a summary of the columns:\n",
    "\n",
    "1. mpg:           continuous; [fuel efficiency in miles per gallon; higher value is more efficient]\n",
    "2. cylinders:     multi-valued discrete [number]\n",
    "3. displacement:  continuous [volume of cylinders; in cubic inches]\n",
    "4. horsepower:    continuous [engine power; in hp]\n",
    "5. weight:        continuous [car mass; in lbs]\n",
    "6. acceleration:  continuous [time to accelerate from 0 to 60 mph; in s; higher value is less acceleration]\n",
    "7. year:    multi-valued discrete [last two digits of the year]\n",
    "8. origin:        multi-valued discrete [1. American, 2. European, 3. Japanese]\n",
    "9. name:      string (make and model; not unique)\n",
    "\n",
    "We have cleaned the set for you, so that it is easier to analyze.\n",
    "See the file `auto-mpg-clean.csv`.\n",
    "\n",
    "#### Training and test data set\n",
    "\n",
    "In the exercises we will use the data to make predictions about the fuel efficiency of a car based on its weight. We would ideally like to test the predictions on new cars. To simulate this type of testing, one often divides the whole data set into a _training set_ and a _test set_. The models are then fit using the _training set_ alone, and the predictions are evaluated using the test set.\n",
    "\n",
    "In the next code cell, we load the full data set into the data frame `df_mpg`. Next, we use the built-in `sklearn` function `train_test_split()` to split the data into data frames `df_mpg_train` and `df_mpg_test`. We will use the former for training the models, and the latter for testing."
   ]
  },
  {
   "cell_type": "code",
   "execution_count": null,
   "metadata": {},
   "outputs": [],
   "source": [
    "df_mpg = pd.read_csv('data/auto-mpg.csv')\n",
    "df_mpg_train, df_mpg_test = train_test_split(df_mpg, test_size=0.2, random_state=42)\n",
    "\n",
    "df_mpg_train.describe()"
   ]
  },
  {
   "cell_type": "markdown",
   "metadata": {},
   "source": [
    "Consider the following columns:\n",
    "\n",
    "* mpg, cylinders, displacement, horsepower, weight, acceleration\n",
    "\n",
    "Which correlations do you expect?\n",
    "\n",
    "You can check your expectations against the following scatter plots."
   ]
  },
  {
   "cell_type": "code",
   "execution_count": null,
   "metadata": {},
   "outputs": [],
   "source": [
    "pd.plotting.scatter_matrix(df_mpg_train[['mpg', 'cylinders', 'displacement', 'horsepower', 'weight', 'acceleration']],\n",
    "                           diagonal='kde', figsize=(10, 10));"
   ]
  },
  {
   "cell_type": "markdown",
   "metadata": {},
   "source": [
    "# <span class=\"section\" id=\"linear_regression_simple\">1.</span> Linear Regression\n",
    "\n",
    "The goal of _linear regression_ is to come up with a _linear model_ that best fits the data.\n",
    "It is a _supervised learning_ method\n",
    "that seeks to 'explain' the dependent variable(s) from the explanatory variable(s)\n",
    "by a _linear model_.\n",
    "\n",
    "> **Note**:\n",
    "> The term _variable_ means something else in statistics than in programming.\n",
    "> A (statistical) variable is any characteristic,\n",
    "> number, or quantity that can be measured or counted.\n",
    "> Its value can vary from individual to individual in the population.\n",
    ">\n",
    "> In statistics, we distinguish _independent_ or _explanatory_ variables and\n",
    "> _dependent_ variables.\n",
    "> The value of _dependent_ variables are considered to be influenced by the\n",
    "> values of the _explanatory_ variables.\n",
    "\n",
    "In this lesson,\n",
    "we will use the **Ordinary Least Squares** (OLS) algorithm for linear regression.\n",
    "It is deterministic.\n",
    "\n",
    "If you are interested in more details,\n",
    "then you can consult the SciKit Learn documentation:\n",
    "\n",
    "* [Ordinary Least Squares algorithm](http://scikit-learn.org/stable/modules/linear_model.html)\n",
    "* [the `sklearn.linear_model.LinearRegression` object](http://scikit-learn.org/stable/modules/generated/sklearn.linear_model.LinearRegression.html)\n",
    "\n",
    "In the case of our example data set,\n",
    "we see a tendency that larger values of `a` correspond to larger values of `b`,\n",
    "and vice versa.\n",
    "\n",
    "Can we quantify this relationship?"
   ]
  },
  {
   "cell_type": "markdown",
   "metadata": {},
   "source": [
    "### Step 1. Select the data\n",
    "\n",
    "Because linear regression is a supervised learning method,\n",
    "we need to split the data into an explanatory variable and a dependent variable.\n",
    "\n",
    "In this example,\n",
    "we (fairly arbitrarily) _choose_ `a` to be the _independent_ (or _explanatory_) variable\n",
    "and `b` the _dependent_ (or _response_) variable.\n",
    "In real-life applications,\n",
    "it is often more obvious how to make that distinction.\n",
    "\n",
    "We select the data as follows for linear regression:"
   ]
  },
  {
   "cell_type": "code",
   "execution_count": null,
   "metadata": {},
   "outputs": [],
   "source": [
    "X_reg = df_sk[['a']].copy()  # independent/explanatory variable; just one column in this case\n",
    "y_reg = df_sk[['b']].copy()  # dependent/response variable; just one column"
   ]
  },
  {
   "cell_type": "markdown",
   "metadata": {},
   "source": [
    "It is good practice to copy the data (as we have done above).\n",
    "That way, you will not accidentally modify the original data,\n",
    "when you start to play around with the selected data\n",
    "(e.g., to assess the quality of the mined model).\n",
    "\n",
    "> **NOTE:** `X_reg` and  `y_reg` should be data frames, even if they contain only one column (therefore the double square brackets in `df_sk[['a']]`).\n",
    "\n",
    "> **NOTE:** In case of **multiple explanatory variables**, the `X_reg` data frame will contain several columns, one for each variable (e.g. `X_reg = df[['a', 'b', 'c']].copy()`)."
   ]
  },
  {
   "cell_type": "markdown",
   "metadata": {},
   "source": [
    "### Step 2. Create the regression object\n",
    "\n",
    "Next, we create the _regression object_ for **linear regression**,\n",
    "and store it in the variable `reg`.\n",
    "We do not need to supply any parameters;\n",
    "the default values suffice."
   ]
  },
  {
   "cell_type": "code",
   "execution_count": null,
   "metadata": {},
   "outputs": [],
   "source": [
    "reg = LinearRegression()"
   ]
  },
  {
   "cell_type": "markdown",
   "metadata": {},
   "source": [
    "Note that the order of Steps 1 and 2 does not matter."
   ]
  },
  {
   "cell_type": "markdown",
   "metadata": {},
   "source": [
    "### Step 3. Fit the model\n",
    "\n",
    "Invoke the **`fit()`** function of the regression object,\n",
    "supplying the selected data:"
   ]
  },
  {
   "cell_type": "code",
   "execution_count": null,
   "metadata": {},
   "outputs": [],
   "source": [
    "reg.fit(X_reg, y_reg);"
   ]
  },
  {
   "cell_type": "markdown",
   "metadata": {},
   "source": [
    "The result that is shown\n",
    "``` python\n",
    "LinearRegression(...)\n",
    "```\n",
    "\n",
    "is not interesting;\n",
    "it shows the parameters, which in our case are all default values.\n",
    "You could suppress that output by appending a semicolon ('**`;`**').\n",
    "\n",
    "The regression object now 'knows' the best linear model for the given data."
   ]
  },
  {
   "cell_type": "markdown",
   "metadata": {},
   "source": [
    "### Step 4.a. Extract model parameters\n",
    "\n",
    "The regression object 'holds' the model parameters that it determined.\n",
    "These parameters can be accessed via various attributes of the miner object.\n",
    "In case of a linear regression miner `reg`,\n",
    "the relevant attributes are:\n",
    "\n",
    "* **`reg.coef_`** : the _coefficient(s)_, one for each of the independent features\n",
    "* **`reg.intercept_`** : the _intercept(s)_, that is, the constant term (additive offset)\n",
    "\n",
    "Thus, the linear model has the form\n",
    "\n",
    "```\n",
    "y = coef_ * X + intercept_\n",
    "```\n",
    "\n",
    "For our example data, we get the following coefficient and intercept:"
   ]
  },
  {
   "cell_type": "code",
   "execution_count": null,
   "metadata": {},
   "outputs": [],
   "source": [
    "reg.coef_, reg.intercept_"
   ]
  },
  {
   "cell_type": "markdown",
   "metadata": {},
   "source": [
    "### Step 4.b. Visualize the model\n",
    "\n",
    "In the case of a linear model where we have one independent feature and one dependent feature,\n",
    "we can visualize that model as a _line_ in the scatter plot.\n",
    "\n",
    "For higher dimensional linear models (when there are multiple independent features),\n",
    "such a visualization is more complex (outside the scope of these lessons).\n",
    "\n",
    "Visualizing this line could be done on the basis of the extracted _coefficient_ and _intercept_. However, for the specific case of a single explanatory variable and a single dependent variable,\n",
    "Seaborn offers the function **`regplot()`** that produces a **scatter plot with regression line**."
   ]
  },
  {
   "cell_type": "code",
   "execution_count": null,
   "metadata": {},
   "outputs": [],
   "source": [
    "sns.regplot(x=X_reg['a'], y=y_reg['b'], line_kws={'color':'orange'}, ci=None);"
   ]
  },
  {
   "cell_type": "markdown",
   "metadata": {},
   "source": [
    "By providing the argument `line_kws={'color':'orange'}`, we set the color of the line to orange.\n",
    "\n",
    "We also provided the argument `ci = None`, to indicate that Seaborn should not draw a confidence interval (we will learn this later in the course). \n",
    "\n",
    "Note that this way of plotting the regression line does not use the regression object. Rather, Seaborn just recomputes the parameters for the linear regression from the data."
   ]
  },
  {
   "cell_type": "markdown",
   "metadata": {},
   "source": [
    "### Step 4.c. Assess the model's quality\n",
    "\n",
    "There are various ways to assess the quality of a linear model.\n",
    "One common way is to look at the value for $R^2$,\n",
    "also known as the _coefficient of determination_.\n",
    "The best value for $R^2$ is 1.0;\n",
    "it can also take on any smaller value, including negative values.\n",
    "\n",
    "$R^2$ can be computed as follows:"
   ]
  },
  {
   "cell_type": "code",
   "execution_count": null,
   "metadata": {},
   "outputs": [],
   "source": [
    "R2 = reg.score(X_reg, y_reg)\n",
    "R2"
   ]
  },
  {
   "cell_type": "markdown",
   "metadata": {},
   "source": [
    "If you add more explanatory features in the selected data,\n",
    "the value of $R^2$ stays the same or goes up (it never goes down)."
   ]
  },
  {
   "cell_type": "markdown",
   "metadata": {},
   "source": [
    "### Step 5. Make predictions\n",
    "\n",
    "Once you have fitted a model,\n",
    "you can use it to predict outcomes for other input data.\n",
    "For that purpose,\n",
    "the regression object provides a function **`predict()`**.\n",
    "\n",
    "Let's use it in our example to predict the outcomes for all given `a` values.\n",
    "We store the predictions in a new column labeled `'predicted'`:"
   ]
  },
  {
   "cell_type": "code",
   "execution_count": null,
   "metadata": {},
   "outputs": [],
   "source": [
    "df_sk['predicted'] = reg.predict(X_reg)\n",
    "df_sk"
   ]
  },
  {
   "cell_type": "markdown",
   "metadata": {},
   "source": [
    "> **NOTE**:\n",
    "> `reg.predict()` requires a two-dimensional structure as argument,\n",
    "> such as a `DataFrame`, and it also returns a two-dimensional result.\n",
    "\n",
    "If you want a prediction for a single input value,\n",
    "then you need to _wrap_ that value in a `DataFrame`:"
   ]
  },
  {
   "cell_type": "code",
   "execution_count": null,
   "metadata": {},
   "outputs": [],
   "source": [
    "reg.predict(pd.DataFrame([4.5]))"
   ]
  },
  {
   "cell_type": "markdown",
   "metadata": {},
   "source": [
    "To obtain the prediction as a single value,\n",
    "you can extract it from the result by _indexing_:"
   ]
  },
  {
   "cell_type": "code",
   "execution_count": null,
   "metadata": {},
   "outputs": [],
   "source": [
    "reg.predict(pd.DataFrame([4.5]))[0, 0]"
   ]
  },
  {
   "cell_type": "markdown",
   "metadata": {},
   "source": [
    "## Exercises on linear regression\n",
    "\n",
    "Now apply this yourself to the Auto MPG data set."
   ]
  },
  {
   "cell_type": "markdown",
   "metadata": {},
   "source": [
    "### Exercise <span class=\"exercise\">1.a</span>: Linear model 'explaining' `mpg` from `weight`\n",
    "\n",
    "Fit a linear regression model using the _training data set_ with `mpg` as _dependent variable_ and\n",
    "`weight` as _explanatory variable_. Perform the following steps:\n",
    "\n",
    "**Step 1. Select the data**\n",
    "\n",
    "* Assign the data for the explanatory variable to `X_weight`,\n",
    "* Assign the data for the dependent variable to `y_mpg`\n",
    "\n",
    "**Step 2. Create the regression object**\n",
    "\n",
    "* Assign the regression object to `reg_mpg_weight`,\n",
    "\n",
    "**Step 3. Fit the regression model**\n",
    "\n",
    "**Step 4. Extract the regression parameters**\n",
    "\n",
    "* Assign the coefficient to `coef_mpg_weight`, and\n",
    "* Assign the intercept to `intercept_mpg_weight`."
   ]
  },
  {
   "cell_type": "code",
   "execution_count": null,
   "metadata": {},
   "outputs": [],
   "source": [
    "#// BEGIN_TODO [DMM_1a] Linear regression (4 points)\n",
    "\n",
    "X_weight = df_mpg_train[['weight']]\n",
    "y_mpg = df_mpg_train[['mpg']]\n",
    "\n",
    "reg_mpg_weight = LinearRegression()\n",
    "reg_mpg_weight.fit(X_weight, y_mpg)\n",
    "\n",
    "coef_mpg_weight = reg_mpg_weight.coef_\n",
    "intercept_mpg_weight = reg_mpg_weight.intercept_\n",
    "\n",
    "#// END_TODO [DMM_1a]\n",
    "\n",
    "coef_mpg_weight, intercept_mpg_weight"
   ]
  },
  {
   "cell_type": "markdown",
   "metadata": {},
   "source": [
    "### Exercise <span class=\"exercise\">1.b</span>: Visualize the model\n",
    "\n",
    "Create a scatter plot with regression line for this linear model.  \n",
    "Hint: Use `sns.regplot()`."
   ]
  },
  {
   "cell_type": "code",
   "execution_count": null,
   "metadata": {},
   "outputs": [],
   "source": [
    "#// BEGIN_TODO [DMM_1b] Scatter plot with regression line (2 points)\n",
    "\n",
    "sns.regplot(x=X_weight['weight'], y=y_mpg['mpg'], line_kws={'color':'orange'}, ci=None);\n",
    "\n",
    "#// END_TODO [DMM_1b]"
   ]
  },
  {
   "cell_type": "markdown",
   "metadata": {},
   "source": [
    "### Exercise <span class=\"exercise\">1.c</span>: Interpretation of relation\n",
    "\n",
    "Does the fitted model suggest that a _higher_ weight correspond to a _higher_ number of miles per gallon?  \n",
    "Assign your (boolean) answer to the string variable `higher_weight_higher_mpg`."
   ]
  },
  {
   "cell_type": "code",
   "execution_count": null,
   "metadata": {},
   "outputs": [],
   "source": [
    "#// BEGIN_TODO [DMM_1c] Linear regression (1 point)\n",
    "\n",
    "higher_weight_higher_mpg = False\n",
    "\n",
    "#// END_TODO [DMM_1c]\n",
    "\n",
    "higher_weight_higher_mpg"
   ]
  },
  {
   "cell_type": "markdown",
   "metadata": {},
   "source": [
    "### Exercise <span class=\"exercise\" id=\"model_score_mpg_weight\">1.d</span>: Quality of the model\n",
    "\n",
    "What is the quality of the model, i.e. what is the coefficient of determination $R^2$?\n",
    "Assign your (numeric) answer to the variable `R2_mpg_weight`."
   ]
  },
  {
   "cell_type": "code",
   "execution_count": null,
   "metadata": {},
   "outputs": [],
   "source": [
    "#// BEGIN_TODO [DMM_1d] R squared (2 points)\n",
    "\n",
    "R2_mpg_weight = reg_mpg_weight.score(X_weight, y_mpg)\n",
    "\n",
    "#// END_TODO [DMM_1d]\n",
    "\n",
    "R2_mpg_weight"
   ]
  },
  {
   "cell_type": "markdown",
   "metadata": {},
   "source": [
    "### Exercise <span class=\"exercise\">1.e</span>: Make predictions\n",
    "\n",
    "Predict the fuel efficiency (in mpg) of the cars in the test set.\n",
    "To this end, create a new data frame `X_weight_test` as a copy of the `'weight'` column of `df_mpg_test`.\n",
    "Assign your answer as a new column labeled `'predicted_mpg'` to the data frame `df_mpg_test`. \n",
    "Hint: Use `reg_mpg_weight.predict()`."
   ]
  },
  {
   "cell_type": "code",
   "execution_count": null,
   "metadata": {},
   "outputs": [],
   "source": [
    "#// BEGIN_TODO [DMM_1e] Predict fuel efficiency (2 points)\n",
    "\n",
    "X_weight_test = df_mpg_test[['weight']]\n",
    "df_mpg_test['predicted_mpg'] = reg_mpg_weight.predict(df_mpg_test[['weight']])\n",
    "\n",
    "#// END_TODO [DMM_1e]\n",
    "\n",
    "df_mpg_test.head()"
   ]
  },
  {
   "cell_type": "markdown",
   "metadata": {},
   "source": [
    "### Exercise <span class=\"exercise\">1.f</span>: Quality of the predictions\n",
    "\n",
    "Let us see how good the predictions really are. Evaluate $R^2$ on the _test set_ and assign its value to the variable `R2_test_mpg_weight`. "
   ]
  },
  {
   "cell_type": "code",
   "execution_count": null,
   "metadata": {},
   "outputs": [],
   "source": [
    "#// BEGIN_TODO [DMM_1f] Prediction accuracy (2 points)\n",
    "\n",
    "R2_test_mpg_weight = reg_mpg_weight.score(X_weight_test, df_mpg_test[['mpg']])\n",
    "\n",
    "#// END_TODO [DMM_1f]\n",
    "\n",
    "R2_test_mpg_weight"
   ]
  },
  {
   "cell_type": "markdown",
   "metadata": {},
   "source": [
    "### Exercise <span class=\"exercise\">1.g</span>: Linear model with a quadratic term\n",
    "\n",
    "When we look at the initial plot of `mpg` versus `weight`,\n",
    "it does not look linear, but curved.\n",
    "That is why it might help to include higher-order terms,\n",
    "such as the square of `weight`. \n",
    "\n",
    "In this exercise, we will try to find coefficients $a$, $b$ and $c$ such that\n",
    "\n",
    "  `mpg` $\\approx a$ `weight`${}^2$ + $b$ `weight` + $c$\n",
    "\n",
    "To this end, create a new data frame named `df_qt` by first copying `df_mpg_train` and then adding \n",
    "a column `'weight^2'` holding the values for `weight`${}^2$.\n",
    "\n",
    "Next, fit a linear regression model with `mpg` as dependent variable,\n",
    "and both `weight` and `weight`$^2$ as explanatory variables.\n",
    "\n",
    "Which equation do we find?\n",
    "\n",
    "Assign\n",
    "\n",
    "* the data for the explanatory variable (a data frame with the `'weight'` and `'weight^2'` columns) to `X_qt`,\n",
    "* the data for the dependent variable to `y_qt`,\n",
    "* the regression object to `reg_qt`,\n",
    "* the coefficients to `coef_qt`, and\n",
    "* the intercept to `intercept_qt`,\n",
    "* $R^2$ (for the training set `df_qt`) to `R2_qt`."
   ]
  },
  {
   "cell_type": "code",
   "execution_count": null,
   "metadata": {},
   "outputs": [],
   "source": [
    "#// BEGIN_TODO [DMM_1g] Model with quadratic term explaining mpg from weight (5 points)\n",
    "\n",
    "df_qt = df_mpg_train.copy()\n",
    "df_qt['weight^2'] = pow(df_qt['weight'], 2)\n",
    "\n",
    "X_qt = df_qt[['weight^2', 'weight']].copy()\n",
    "y_qt = df_qt[['mpg']].copy()\n",
    "\n",
    "reg_qt = LinearRegression()\n",
    "reg_qt.fit(X_qt, y_qt)\n",
    "\n",
    "coef_qt = reg_qt.coef_\n",
    "intercept_qt = reg_qt.intercept_\n",
    "\n",
    "R2_qt = reg_qt.score(X_qt, y_qt)\n",
    "\n",
    "#// END_TODO [DMM_1g]\n",
    "\n",
    "coef_qt, intercept_qt, R2_qt"
   ]
  },
  {
   "cell_type": "markdown",
   "metadata": {},
   "source": [
    "### Exercise <span class=\"exercise\">1.h</span>: Which equation did we find?\n",
    "\n",
    "From the linear regression we can extract coefficients $a$, $b$ and $c$ such that\n",
    "\n",
    "`mpg` $\\approx a$ `weight`${}^2$ + $b$ `weight` + $c$\n",
    "\n",
    "Assign those values of $a$, $b$ and $c$ to the variables `a`, `b` and `c`. Use the equation to compute the predicted `mpg` when the `weight` is $4000$ lbs and assign it to `y_mpg_4000`."
   ]
  },
  {
   "cell_type": "code",
   "execution_count": null,
   "metadata": {},
   "outputs": [],
   "source": [
    "#// BEGIN_TODO [DMM_1h] The equation (2 points)\n",
    "\n",
    "a = coef_qt[0][0]\n",
    "b = coef_qt[0][1]\n",
    "c = intercept_qt[0]\n",
    "y_mpg_4000 = a * 16000000 + b * 4000 + c\n",
    "\n",
    "#// END_TODO [DMM_1h]\n",
    "\n",
    "a, b, c, y_mpg_4000"
   ]
  },
  {
   "cell_type": "markdown",
   "metadata": {},
   "source": [
    "### Exercise <span class=\"exercise\">1.i</span>: Did $R^2$ improve?\n",
    "\n",
    "Is the value of $R^2$ better than in <span class=\"reference\" ref=\"model_score_mpg_weight\"><a href=\"#model_score_mpg_weight\">Exercise 1.d</a></span>?  \n",
    "Assign your boolean answer to the string variable `score_improved`."
   ]
  },
  {
   "cell_type": "code",
   "execution_count": null,
   "metadata": {},
   "outputs": [],
   "source": [
    "#// BEGIN_TODO [DMM_1i] Is this better than the linear model from 1.a? (1 point)\n",
    "\n",
    "R2_qt = reg_qt.score(X_qt, y_qt)\n",
    "\n",
    "score_improved = False\n",
    "if R2_qt > R2_mpg_weight:\n",
    "    score_improved = True\n",
    "else:\n",
    "    score_improved = False\n",
    "\n",
    "#// END_TODO [DMM_1i]\n",
    "\n",
    "score_improved"
   ]
  },
  {
   "cell_type": "markdown",
   "metadata": {},
   "source": [
    "> **WARNING**: In fact, if you add more explanatory variables, the value of $R^2$ will _always_ increase. \n",
    "> This does not necessarily mean that the model gets better. If you add too many variables, the model will **overfit**, i.e. although predictions for data the model has seen are good, predictions on new data will be terrible. "
   ]
  },
  {
   "cell_type": "markdown",
   "metadata": {},
   "source": [
    "### Exercise <span class=\"exercise\">1.j</span>: Scatter plot with regression curve\n",
    "\n",
    "Plot your quadratic model. Add the test data to the plot in a different color.\n",
    "Hint: Use `sns.regplot()` with argument `order=2`. "
   ]
  },
  {
   "cell_type": "code",
   "execution_count": null,
   "metadata": {},
   "outputs": [],
   "source": [
    "#// BEGIN_TODO [DMM_1j] Scatter plot and quadratic model (2 points)\n",
    "\n",
    "sns.regplot(x=X_qt['weight'], y=y_qt['mpg'], line_kws={'color':'orange'}, ci=None, order=2);\n",
    "\n",
    "#// END_TODO [DMM_1j]"
   ]
  },
  {
   "cell_type": "markdown",
   "metadata": {},
   "source": [
    "# <span class=\"section\">2.</span> Clustering\n",
    "\n",
    "The goal of _clustering_ is to come up with a _collection of clusters_ that best fits the data.\n",
    "It is an _unsupervised learning_ method\n",
    "that seeks to group the data 'points' in coherent groups, where\n",
    "\n",
    "* distances _within_ (intra) groups are relatively _small_, and\n",
    "* distances _between_ (inter) groups are relatively _large_.\n",
    "\n",
    "In this lesson, we will use the **K-Means** algorithm for clustering.\n",
    "It is non-deterministic, and must be started with the desired number of clusters.\n",
    "\n",
    "If you are interested in more details, you can consult the documentation at SciKit Learn:\n",
    "\n",
    "* [K-Means algorithm](http://scikit-learn.org/stable/modules/clustering.html#k-means)\n",
    "* [the `sklearn.cluster.KMeans` cluster object](http://scikit-learn.org/stable/modules/generated/sklearn.cluster.KMeans.html)"
   ]
  },
  {
   "cell_type": "markdown",
   "metadata": {},
   "source": [
    "### Step 1. Select the data\n",
    "\n",
    "We select the `'a'` and `'b'` columns from `df_sk`:"
   ]
  },
  {
   "cell_type": "code",
   "execution_count": null,
   "metadata": {},
   "outputs": [],
   "source": [
    "X_km = df_sk[['a', 'b']].copy()"
   ]
  },
  {
   "cell_type": "markdown",
   "metadata": {},
   "source": [
    "### Step 2. Create the cluster object\n",
    "\n",
    "Next, we create the _cluster object_ for **K-Means clustering**,\n",
    "supplying the desired number of clusters as argument (**`n_clusters=...`**),\n",
    "and store it in the variable `km`.\n",
    "\n",
    "In this example, we go for four clusters:"
   ]
  },
  {
   "cell_type": "code",
   "execution_count": null,
   "metadata": {},
   "outputs": [],
   "source": [
    "km = KMeans(n_clusters=4)"
   ]
  },
  {
   "cell_type": "markdown",
   "metadata": {},
   "source": [
    "### Step 3. Fit the model\n",
    "\n",
    "Invoke the **`fit()`** function of the cluster object,\n",
    "supplying the selected data:"
   ]
  },
  {
   "cell_type": "code",
   "execution_count": null,
   "metadata": {},
   "outputs": [],
   "source": [
    "km.fit(X_km)"
   ]
  },
  {
   "cell_type": "markdown",
   "metadata": {},
   "source": [
    "### Step 4.a. Extract model parameters\n",
    "\n",
    "In case of K-Means clustering,\n",
    "the relevant attributes of the cluster object `km` are:\n",
    "\n",
    "* **`km.cluster_centers_ `** : the _locations of the cluster centers_\n",
    "* **`km.labels_`** : the _cluster labels_ for the data points  \n",
    "    Labels are in the range from $0$ through $k-1$.\n",
    "\n",
    "It is convenient\n",
    "\n",
    "* to convert the cluster centers to a data frame with the same column labels as the original data,\n",
    "    and\n",
    "* to add the labels as a new column to the data being clustered.\n",
    "\n",
    "In case of our example, we do this as follows."
   ]
  },
  {
   "cell_type": "code",
   "execution_count": null,
   "metadata": {},
   "outputs": [],
   "source": [
    "centers = pd.DataFrame(km.cluster_centers_, columns=X_km.columns)\n",
    "centers"
   ]
  },
  {
   "cell_type": "code",
   "execution_count": null,
   "metadata": {},
   "outputs": [],
   "source": [
    "X_km['cluster'] = km.labels_\n",
    "X_km"
   ]
  },
  {
   "cell_type": "markdown",
   "metadata": {},
   "source": [
    "### Step 4.b. Visualize the model\n",
    "\n",
    "To visualize the clusters,\n",
    "we create a scatter plot,\n",
    "where we color each data point according to its cluster.\n",
    "\n",
    "Finally, we put in the centers marked by a cross."
   ]
  },
  {
   "cell_type": "code",
   "execution_count": null,
   "metadata": {},
   "outputs": [],
   "source": [
    "ax = X_km[X_km['cluster']==0].plot(kind='scatter', x='a', y='b', s=50, c='green', sharex=False)\n",
    "X_km[X_km['cluster']==1].plot(kind='scatter',x='a',y='b',s=50, c='orange', sharex=False, ax = ax)\n",
    "X_km[X_km['cluster']==2].plot(kind='scatter',x='a',y='b',s=50, c='purple', sharex=False, ax = ax)\n",
    "X_km[X_km['cluster']==3].plot(kind='scatter',x='a',y='b',s=50, c='blue', sharex=False, ax = ax)\n",
    "\n",
    "centers.plot(kind = 'scatter', x='a', y='b', c=['green','orange','purple','blue'], s=50, marker='x', sharex=False, ax=ax)"
   ]
  },
  {
   "cell_type": "markdown",
   "metadata": {},
   "source": [
    "> **NOTES**: The $x$-axis will _not_ be labeled when the argument `sharex=False` is omitted.\n",
    ">     (Supplying the argument `sharex=False` is a workaround for a bug.)"
   ]
  },
  {
   "cell_type": "markdown",
   "metadata": {},
   "source": [
    "### Step 4.c. Assess the model's quality\n",
    "\n",
    "For clustering, a quality measure is the _sum of squared distances_ of data points\n",
    "to their closest cluster center, also known as _inertia_.\n",
    "Its value is non-negative, and 0 is the best.\n",
    "\n",
    "It is obtained as follows."
   ]
  },
  {
   "cell_type": "code",
   "execution_count": null,
   "metadata": {},
   "outputs": [],
   "source": [
    "inertia = km.inertia_\n",
    "inertia"
   ]
  },
  {
   "cell_type": "markdown",
   "metadata": {},
   "source": [
    "> **WARNING**: The inertia will always go down if you create more clusters, similarly to how the value of $R^2$ for linear regression always goes up if you add more explanatory variables. Again, this does _not_ mean that more clusters is always better: at some point every point will just have its own cluster, and the clustering becomes meaningless."
   ]
  },
  {
   "cell_type": "markdown",
   "metadata": {},
   "source": [
    "### Step 5. Do predictions\n",
    "\n",
    "Given one or more additional data points, you can find their clusters,\n",
    "that is, the label of the nearest cluster center, with the function **`predict()`**."
   ]
  },
  {
   "cell_type": "code",
   "execution_count": null,
   "metadata": {},
   "outputs": [],
   "source": [
    "test_km = [(1, 4), (2, 4), (4, 6), (5, 4), (7, 6), (8, 8)]\n",
    "km.predict(test_km)"
   ]
  },
  {
   "attachments": {
    "kmeans-regions.png": {
     "image/png": "[encoded data removed]"
    }
   },
   "cell_type": "markdown",
   "metadata": {},
   "source": [
    "Check whether these predictions make sense.\n",
    "\n",
    "It may be helpful to consult the following plot\n",
    "(its creation is beyond the scope of these lessons),\n",
    "which shows the cluster (color) predicted by `km.predict()`\n",
    "for all points in the plot area .\n",
    "\n",
    "![kmeans-regions.png](attachment:kmeans-regions.png)"
   ]
  },
  {
   "cell_type": "markdown",
   "metadata": {},
   "source": [
    "## Exercises on clustering\n",
    "\n",
    "In this exercise we will attempt to identify different types of _wheat seeds_, by clustering on their geometrical properties. We use a data set containing measurements of 210 different seeds. \n",
    "\n",
    "We load the data into the data frame `df_seeds`."
   ]
  },
  {
   "cell_type": "code",
   "execution_count": null,
   "metadata": {},
   "outputs": [],
   "source": [
    "df_seeds = pd.read_csv('data/seeds.csv')\n",
    "df_seeds.head(10)"
   ]
  },
  {
   "cell_type": "markdown",
   "metadata": {},
   "source": [
    "The data frame `df_seeds` contains seven columns with the following geometrical information.\n",
    "\n",
    "1. area: area of the kernel in mm$^2$\n",
    "2. perimeter: perimeter of the kernel in mm\n",
    "3. kernel_length: length of the kernel in mm\n",
    "4. kernel_width: width of the kernel in mm\n",
    "5. asymmetry: asymmetry coefficient \n",
    "6. groove_length: length of the groove in the kernel in mm"
   ]
  },
  {
   "cell_type": "markdown",
   "metadata": {},
   "source": [
    "### Exercise <span class=\"exercise\" id=\"exercise-cluster-no-scaling\">2.a</span>: Create three clusters by KMeans\n",
    "\n",
    "Cluster the wheat-seed data with the $k$-means algorithm with $k$ set to $3$. Perform the following steps:\n",
    "\n",
    "**Step 1. Select the data**\n",
    "\n",
    "* Copy the data for clustering to a data frame `df_seeds_train`\n",
    "\n",
    "**Step 2. Create the cluster object**\n",
    "\n",
    "* Assign the cluster object to `km_seeds`\n",
    "\n",
    "**Step 3. Fit the model**\n",
    "\n",
    "**Step 4. Extract the model parameters**\n",
    "\n",
    "* Assign the cluster centers to `centers_seeds`, and\n",
    "* Add a new column named `'cluster'` with the cluster labels to the data frame `df_seeds_train`"
   ]
  },
  {
   "cell_type": "code",
   "execution_count": null,
   "metadata": {},
   "outputs": [],
   "source": [
    "#// BEGIN_TODO [DMM_2a] Mine 3 clusters (3 points)\n",
    "\n",
    "# ===== =====> Replace this line by your code. <===== ===== #\n",
    "\n",
    "#// END_TODO [DMM_2a]\n",
    "\n",
    "#df_seeds_train.head(10)"
   ]
  },
  {
   "cell_type": "markdown",
   "metadata": {},
   "source": [
    "### Exercise <span class=\"exercise\">2.b</span>: Scatter plot with clusters\n",
    "\n",
    "Plot the results in a scatter plot, with the asymmetry on the $x$-axis, and the perimeter on the $y$-axis. Display each cluster in a different color. In addition, put red markers at the cluster centers. "
   ]
  },
  {
   "cell_type": "code",
   "execution_count": null,
   "metadata": {},
   "outputs": [],
   "source": [
    "#// BEGIN_TODO [DMM_2b] Plot the clusters distinguished by color (2 points)\n",
    "\n",
    "# ===== =====> Replace this line by your code. <===== ===== #\n",
    "\n",
    "#// END_TODO [DMM_2b]"
   ]
  },
  {
   "cell_type": "markdown",
   "metadata": {},
   "source": [
    "### Exercise <span class=\"exercise\">2.c</span>: Assess the model's quality\n",
    "\n",
    "Determine the model's _inertia_, and assign it to the variable `inertia_seeds`"
   ]
  },
  {
   "cell_type": "code",
   "execution_count": null,
   "metadata": {},
   "outputs": [],
   "source": [
    "#// BEGIN_TODO [DMM_2c] Model quality (1 point)\n",
    "\n",
    "# ===== =====> Replace this line by your code. <===== ===== #\n",
    "\n",
    "#// END_TODO [DMM_2c]\n",
    "#inertia_seeds"
   ]
  },
  {
   "cell_type": "markdown",
   "metadata": {},
   "source": [
    "### Exercise <span class=\"exercise\">2.d</span>: Make predictions\n",
    "\n",
    "Predict the cluster for seeds with the following geometrical properties\n",
    "given in the data frame `df_seeds_test`.   \n",
    "Assign your answer to the new column `df_seeds_test['predicted_cluster']`."
   ]
  },
  {
   "cell_type": "code",
   "execution_count": null,
   "metadata": {},
   "outputs": [],
   "source": [
    "df_seeds_test = pd.DataFrame([[14.3, 14.0, 5.5, 3.1, 2.8, 4.9], \n",
    "                             [16.5, 15.7, 6.3, 3.5, 3.4, 6.0],\n",
    "                             [11.5, 13.0, 5.0, 2.7, 4.8, 5.0]], columns=df_seeds.columns )\n",
    "\n",
    "#// BEGIN_TODO [DMM_2d] Predict clusters (2 points)\n",
    "\n",
    "# ===== =====> Replace this line by your code. <===== ===== #\n",
    "\n",
    "#// END_TODO [DMM_2d]\n",
    "\n",
    "df_seeds_test"
   ]
  },
  {
   "cell_type": "markdown",
   "metadata": {},
   "source": [
    "### Exercise <span class=\"exercise\">2.e</span>: Compare with the actual seed varieties\n",
    "\n",
    "Using the $k$-means algorithm, we have identified our own types of wheat seeds. But in fact, for this particular data set, the seeds actually come from three established wheat varieties. Let us see how our types compare to the varieties. \n",
    "\n",
    "The first seventy seeds in the data set were from the _Kama_ variety, the second seventy were _Rosa_ wheat seeds and the last seventy were _Canadian_ wheat seeds.\n",
    "\n",
    "Add this information, as strings, in a column `'variety'` to the data frame `df_seeds_train`. Afterwards, we will automatically compare the clusters with the variety labels."
   ]
  },
  {
   "cell_type": "code",
   "execution_count": null,
   "metadata": {},
   "outputs": [],
   "source": [
    "#// BEGIN_TODO [DMM_2e] Add variety column (1 point)\n",
    "\n",
    "# ===== =====> Replace this line by your code. <===== ===== #\n",
    "\n",
    "#// END_TODO [DMM_2e]\n",
    "\n",
    "#df_seeds_train"
   ]
  },
  {
   "cell_type": "markdown",
   "metadata": {},
   "source": [
    "By executing the following cell, you can get some insight on how the clusters produced by the $k$-means algorithm compare to the established varieties."
   ]
  },
  {
   "cell_type": "code",
   "execution_count": null,
   "metadata": {},
   "outputs": [],
   "source": [
    "#df_seeds_train.groupby('cluster')['variety'].describe()"
   ]
  },
  {
   "cell_type": "markdown",
   "metadata": {},
   "source": [
    "If everything went well, you will see that there is actually quite a good correspondence!"
   ]
  },
  {
   "cell_type": "markdown",
   "metadata": {},
   "source": [
    "# <span class=\"section\">3.</span> Decision Tree Mining\n",
    "\n",
    "The goal of _decision tree mining_ is to come up with a _decision tree_ that best fits the data.\n",
    "It is a _supervised learning_ method\n",
    "that seeks to predict a target variable from explanatory variables, where\n",
    "\n",
    "* each decision is based on the value of one variable,\n",
    "* the tree has a minimal depth\n",
    "  (each decision is most informative).\n",
    "\n",
    "In this lesson, we will use (an optimized version of) the **CART** algorithm\n",
    "for decision tree mining.\n",
    "It is non-deterministic, and can be started with a bound on the tree depth.\n",
    "\n",
    "If you are interested in more details, you can consult the documentation at SciKit Learn:\n",
    "\n",
    "* [Decision Trees](http://scikit-learn.org/stable/modules/tree.html)\n",
    "* [the `sklearn.tree.DecisionTreeClassifier` decision-tree object](http://scikit-learn.org/stable/modules/generated/sklearn.tree.DecisionTreeClassifier.html)"
   ]
  },
  {
   "cell_type": "markdown",
   "metadata": {},
   "source": [
    "### Step 1. Select the data\n",
    "\n",
    "We illustrate how to train a decision tree classifier, by using the data frame `df_sk`. We choose `a` and `b` to be the _explanatory_ variables\n",
    "and we add an artificial _target_ variable with four classes derived from the index:"
   ]
  },
  {
   "cell_type": "code",
   "execution_count": 28,
   "metadata": {},
   "outputs": [],
   "source": [
    "X_dtc = df_sk[['a', 'b']].copy()\n",
    "y_dtc = X_dtc.index // 3  # create artificial target variable"
   ]
  },
  {
   "cell_type": "markdown",
   "metadata": {},
   "source": [
    "The following scatter plot gives an impression of this target variable, by assigning the points belonging to each of the four target classes a different color:"
   ]
  },
  {
   "cell_type": "code",
   "execution_count": 29,
   "metadata": {},
   "outputs": [
    {
     "output_type": "execute_result",
     "data": {
      "text/plain": [
       "<matplotlib.legend.Legend at 0x7f67a5355340>"
      ]
     },
     "metadata": {},
     "execution_count": 29
    },
    {
     "output_type": "display_data",
     "data": {
      "text/plain": "<Figure size 720x360 with 1 Axes>",
      "image/svg+xml": "<?xml version=\"1.0\" encoding=\"utf-8\" standalone=\"no\"?>\n<!DOCTYPE svg PUBLIC \"-//W3C//DTD SVG 1.1//EN\"\n  \"http://www.w3.org/Graphics/SVG/1.1/DTD/svg11.dtd\">\n<svg height=\"321.959687pt\" version=\"1.1\" viewBox=\"0 0 604.5125 321.959687\" width=\"604.5125pt\" xmlns=\"http://www.w3.org/2000/svg\" xmlns:xlink=\"http://www.w3.org/1999/xlink\">\n <metadata>\n  <rdf:RDF xmlns:cc=\"http://creativecommons.org/ns#\" xmlns:dc=\"http://purl.org/dc/elements/1.1/\" xmlns:rdf=\"http://www.w3.org/1999/02/22-rdf-syntax-ns#\">\n   <cc:Work>\n    <dc:type rdf:resource=\"http://purl.org/dc/dcmitype/StillImage\"/>\n    <dc:date>2021-05-19T15:23:52.338536</dc:date>\n    <dc:format>image/svg+xml</dc:format>\n    <dc:creator>\n     <cc:Agent>\n      <dc:title>Matplotlib v3.4.1, https://matplotlib.org/</dc:title>\n     </cc:Agent>\n    </dc:creator>\n   </cc:Work>\n  </rdf:RDF>\n </metadata>\n <defs>\n  <style type=\"text/css\">*{stroke-linecap:butt;stroke-linejoin:round;}</style>\n </defs>\n <g id=\"figure_1\">\n  <g id=\"patch_1\">\n   <path d=\"M 0 321.959687 \nL 604.5125 321.959687 \nL 604.5125 0 \nL 0 0 \nz\n\" style=\"fill:#ffffff;\"/>\n  </g>\n  <g id=\"axes_1\">\n   <g id=\"patch_2\">\n    <path d=\"M 39.3125 279 \nL 597.3125 279 \nL 597.3125 7.2 \nL 39.3125 7.2 \nz\n\" style=\"fill:#eaeaf2;\"/>\n   </g>\n   <g id=\"matplotlib.axis_1\">\n    <g id=\"xtick_1\">\n     <g id=\"line2d_1\">\n      <path clip-path=\"url(#p73d854fb35)\" d=\"M 64.676136 279 \nL 64.676136 7.2 \n\" style=\"fill:none;stroke:#ffffff;stroke-linecap:round;\"/>\n     </g>\n     <g id=\"text_1\">\n      <!-- 0 -->\n      <g style=\"fill:#262626;\" transform=\"translate(61.176761 296.858281)scale(0.11 -0.11)\">\n       <defs>\n        <path d=\"M 2034 4250 \nQ 1547 4250 1301 3770 \nQ 1056 3291 1056 2328 \nQ 1056 1369 1301 889 \nQ 1547 409 2034 409 \nQ 2525 409 2770 889 \nQ 3016 1369 3016 2328 \nQ 3016 3291 2770 3770 \nQ 2525 4250 2034 4250 \nz\nM 2034 4750 \nQ 2819 4750 3233 4129 \nQ 3647 3509 3647 2328 \nQ 3647 1150 3233 529 \nQ 2819 -91 2034 -91 \nQ 1250 -91 836 529 \nQ 422 1150 422 2328 \nQ 422 3509 836 4129 \nQ 1250 4750 2034 4750 \nz\n\" id=\"DejaVuSans-30\" transform=\"scale(0.015625)\"/>\n       </defs>\n       <use xlink:href=\"#DejaVuSans-30\"/>\n      </g>\n     </g>\n    </g>\n    <g id=\"xtick_2\">\n     <g id=\"line2d_2\">\n      <path clip-path=\"url(#p73d854fb35)\" d=\"M 177.403409 279 \nL 177.403409 7.2 \n\" style=\"fill:none;stroke:#ffffff;stroke-linecap:round;\"/>\n     </g>\n     <g id=\"text_2\">\n      <!-- 2 -->\n      <g style=\"fill:#262626;\" transform=\"translate(173.904034 296.858281)scale(0.11 -0.11)\">\n       <defs>\n        <path d=\"M 1228 531 \nL 3431 531 \nL 3431 0 \nL 469 0 \nL 469 531 \nQ 828 903 1448 1529 \nQ 2069 2156 2228 2338 \nQ 2531 2678 2651 2914 \nQ 2772 3150 2772 3378 \nQ 2772 3750 2511 3984 \nQ 2250 4219 1831 4219 \nQ 1534 4219 1204 4116 \nQ 875 4013 500 3803 \nL 500 4441 \nQ 881 4594 1212 4672 \nQ 1544 4750 1819 4750 \nQ 2544 4750 2975 4387 \nQ 3406 4025 3406 3419 \nQ 3406 3131 3298 2873 \nQ 3191 2616 2906 2266 \nQ 2828 2175 2409 1742 \nQ 1991 1309 1228 531 \nz\n\" id=\"DejaVuSans-32\" transform=\"scale(0.015625)\"/>\n       </defs>\n       <use xlink:href=\"#DejaVuSans-32\"/>\n      </g>\n     </g>\n    </g>\n    <g id=\"xtick_3\">\n     <g id=\"line2d_3\">\n      <path clip-path=\"url(#p73d854fb35)\" d=\"M 290.130682 279 \nL 290.130682 7.2 \n\" style=\"fill:none;stroke:#ffffff;stroke-linecap:round;\"/>\n     </g>\n     <g id=\"text_3\">\n      <!-- 4 -->\n      <g style=\"fill:#262626;\" transform=\"translate(286.631307 296.858281)scale(0.11 -0.11)\">\n       <defs>\n        <path d=\"M 2419 4116 \nL 825 1625 \nL 2419 1625 \nL 2419 4116 \nz\nM 2253 4666 \nL 3047 4666 \nL 3047 1625 \nL 3713 1625 \nL 3713 1100 \nL 3047 1100 \nL 3047 0 \nL 2419 0 \nL 2419 1100 \nL 313 1100 \nL 313 1709 \nL 2253 4666 \nz\n\" id=\"DejaVuSans-34\" transform=\"scale(0.015625)\"/>\n       </defs>\n       <use xlink:href=\"#DejaVuSans-34\"/>\n      </g>\n     </g>\n    </g>\n    <g id=\"xtick_4\">\n     <g id=\"line2d_4\">\n      <path clip-path=\"url(#p73d854fb35)\" d=\"M 402.857955 279 \nL 402.857955 7.2 \n\" style=\"fill:none;stroke:#ffffff;stroke-linecap:round;\"/>\n     </g>\n     <g id=\"text_4\">\n      <!-- 6 -->\n      <g style=\"fill:#262626;\" transform=\"translate(399.35858 296.858281)scale(0.11 -0.11)\">\n       <defs>\n        <path d=\"M 2113 2584 \nQ 1688 2584 1439 2293 \nQ 1191 2003 1191 1497 \nQ 1191 994 1439 701 \nQ 1688 409 2113 409 \nQ 2538 409 2786 701 \nQ 3034 994 3034 1497 \nQ 3034 2003 2786 2293 \nQ 2538 2584 2113 2584 \nz\nM 3366 4563 \nL 3366 3988 \nQ 3128 4100 2886 4159 \nQ 2644 4219 2406 4219 \nQ 1781 4219 1451 3797 \nQ 1122 3375 1075 2522 \nQ 1259 2794 1537 2939 \nQ 1816 3084 2150 3084 \nQ 2853 3084 3261 2657 \nQ 3669 2231 3669 1497 \nQ 3669 778 3244 343 \nQ 2819 -91 2113 -91 \nQ 1303 -91 875 529 \nQ 447 1150 447 2328 \nQ 447 3434 972 4092 \nQ 1497 4750 2381 4750 \nQ 2619 4750 2861 4703 \nQ 3103 4656 3366 4563 \nz\n\" id=\"DejaVuSans-36\" transform=\"scale(0.015625)\"/>\n       </defs>\n       <use xlink:href=\"#DejaVuSans-36\"/>\n      </g>\n     </g>\n    </g>\n    <g id=\"xtick_5\">\n     <g id=\"line2d_5\">\n      <path clip-path=\"url(#p73d854fb35)\" d=\"M 515.585227 279 \nL 515.585227 7.2 \n\" style=\"fill:none;stroke:#ffffff;stroke-linecap:round;\"/>\n     </g>\n     <g id=\"text_5\">\n      <!-- 8 -->\n      <g style=\"fill:#262626;\" transform=\"translate(512.085852 296.858281)scale(0.11 -0.11)\">\n       <defs>\n        <path d=\"M 2034 2216 \nQ 1584 2216 1326 1975 \nQ 1069 1734 1069 1313 \nQ 1069 891 1326 650 \nQ 1584 409 2034 409 \nQ 2484 409 2743 651 \nQ 3003 894 3003 1313 \nQ 3003 1734 2745 1975 \nQ 2488 2216 2034 2216 \nz\nM 1403 2484 \nQ 997 2584 770 2862 \nQ 544 3141 544 3541 \nQ 544 4100 942 4425 \nQ 1341 4750 2034 4750 \nQ 2731 4750 3128 4425 \nQ 3525 4100 3525 3541 \nQ 3525 3141 3298 2862 \nQ 3072 2584 2669 2484 \nQ 3125 2378 3379 2068 \nQ 3634 1759 3634 1313 \nQ 3634 634 3220 271 \nQ 2806 -91 2034 -91 \nQ 1263 -91 848 271 \nQ 434 634 434 1313 \nQ 434 1759 690 2068 \nQ 947 2378 1403 2484 \nz\nM 1172 3481 \nQ 1172 3119 1398 2916 \nQ 1625 2713 2034 2713 \nQ 2441 2713 2670 2916 \nQ 2900 3119 2900 3481 \nQ 2900 3844 2670 4047 \nQ 2441 4250 2034 4250 \nQ 1625 4250 1398 4047 \nQ 1172 3844 1172 3481 \nz\n\" id=\"DejaVuSans-38\" transform=\"scale(0.015625)\"/>\n       </defs>\n       <use xlink:href=\"#DejaVuSans-38\"/>\n      </g>\n     </g>\n    </g>\n    <g id=\"text_6\">\n     <!-- a -->\n     <g style=\"fill:#262626;\" transform=\"translate(314.635625 312.264062)scale(0.12 -0.12)\">\n      <defs>\n       <path d=\"M 2194 1759 \nQ 1497 1759 1228 1600 \nQ 959 1441 959 1056 \nQ 959 750 1161 570 \nQ 1363 391 1709 391 \nQ 2188 391 2477 730 \nQ 2766 1069 2766 1631 \nL 2766 1759 \nL 2194 1759 \nz\nM 3341 1997 \nL 3341 0 \nL 2766 0 \nL 2766 531 \nQ 2569 213 2275 61 \nQ 1981 -91 1556 -91 \nQ 1019 -91 701 211 \nQ 384 513 384 1019 \nQ 384 1609 779 1909 \nQ 1175 2209 1959 2209 \nL 2766 2209 \nL 2766 2266 \nQ 2766 2663 2505 2880 \nQ 2244 3097 1772 3097 \nQ 1472 3097 1187 3025 \nQ 903 2953 641 2809 \nL 641 3341 \nQ 956 3463 1253 3523 \nQ 1550 3584 1831 3584 \nQ 2591 3584 2966 3190 \nQ 3341 2797 3341 1997 \nz\n\" id=\"DejaVuSans-61\" transform=\"scale(0.015625)\"/>\n      </defs>\n      <use xlink:href=\"#DejaVuSans-61\"/>\n     </g>\n    </g>\n   </g>\n   <g id=\"matplotlib.axis_2\">\n    <g id=\"ytick_1\">\n     <g id=\"line2d_6\">\n      <path clip-path=\"url(#p73d854fb35)\" d=\"M 39.3125 266.645455 \nL 597.3125 266.645455 \n\" style=\"fill:none;stroke:#ffffff;stroke-linecap:round;\"/>\n     </g>\n     <g id=\"text_7\">\n      <!-- 1 -->\n      <g style=\"fill:#262626;\" transform=\"translate(22.81375 270.824595)scale(0.11 -0.11)\">\n       <defs>\n        <path d=\"M 794 531 \nL 1825 531 \nL 1825 4091 \nL 703 3866 \nL 703 4441 \nL 1819 4666 \nL 2450 4666 \nL 2450 531 \nL 3481 531 \nL 3481 0 \nL 794 0 \nL 794 531 \nz\n\" id=\"DejaVuSans-31\" transform=\"scale(0.015625)\"/>\n       </defs>\n       <use xlink:href=\"#DejaVuSans-31\"/>\n      </g>\n     </g>\n    </g>\n    <g id=\"ytick_2\">\n     <g id=\"line2d_7\">\n      <path clip-path=\"url(#p73d854fb35)\" d=\"M 39.3125 235.759091 \nL 597.3125 235.759091 \n\" style=\"fill:none;stroke:#ffffff;stroke-linecap:round;\"/>\n     </g>\n     <g id=\"text_8\">\n      <!-- 2 -->\n      <g style=\"fill:#262626;\" transform=\"translate(22.81375 239.938232)scale(0.11 -0.11)\">\n       <use xlink:href=\"#DejaVuSans-32\"/>\n      </g>\n     </g>\n    </g>\n    <g id=\"ytick_3\">\n     <g id=\"line2d_8\">\n      <path clip-path=\"url(#p73d854fb35)\" d=\"M 39.3125 204.872727 \nL 597.3125 204.872727 \n\" style=\"fill:none;stroke:#ffffff;stroke-linecap:round;\"/>\n     </g>\n     <g id=\"text_9\">\n      <!-- 3 -->\n      <g style=\"fill:#262626;\" transform=\"translate(22.81375 209.051868)scale(0.11 -0.11)\">\n       <defs>\n        <path d=\"M 2597 2516 \nQ 3050 2419 3304 2112 \nQ 3559 1806 3559 1356 \nQ 3559 666 3084 287 \nQ 2609 -91 1734 -91 \nQ 1441 -91 1130 -33 \nQ 819 25 488 141 \nL 488 750 \nQ 750 597 1062 519 \nQ 1375 441 1716 441 \nQ 2309 441 2620 675 \nQ 2931 909 2931 1356 \nQ 2931 1769 2642 2001 \nQ 2353 2234 1838 2234 \nL 1294 2234 \nL 1294 2753 \nL 1863 2753 \nQ 2328 2753 2575 2939 \nQ 2822 3125 2822 3475 \nQ 2822 3834 2567 4026 \nQ 2313 4219 1838 4219 \nQ 1578 4219 1281 4162 \nQ 984 4106 628 3988 \nL 628 4550 \nQ 988 4650 1302 4700 \nQ 1616 4750 1894 4750 \nQ 2613 4750 3031 4423 \nQ 3450 4097 3450 3541 \nQ 3450 3153 3228 2886 \nQ 3006 2619 2597 2516 \nz\n\" id=\"DejaVuSans-33\" transform=\"scale(0.015625)\"/>\n       </defs>\n       <use xlink:href=\"#DejaVuSans-33\"/>\n      </g>\n     </g>\n    </g>\n    <g id=\"ytick_4\">\n     <g id=\"line2d_9\">\n      <path clip-path=\"url(#p73d854fb35)\" d=\"M 39.3125 173.986364 \nL 597.3125 173.986364 \n\" style=\"fill:none;stroke:#ffffff;stroke-linecap:round;\"/>\n     </g>\n     <g id=\"text_10\">\n      <!-- 4 -->\n      <g style=\"fill:#262626;\" transform=\"translate(22.81375 178.165504)scale(0.11 -0.11)\">\n       <use xlink:href=\"#DejaVuSans-34\"/>\n      </g>\n     </g>\n    </g>\n    <g id=\"ytick_5\">\n     <g id=\"line2d_10\">\n      <path clip-path=\"url(#p73d854fb35)\" d=\"M 39.3125 143.1 \nL 597.3125 143.1 \n\" style=\"fill:none;stroke:#ffffff;stroke-linecap:round;\"/>\n     </g>\n     <g id=\"text_11\">\n      <!-- 5 -->\n      <g style=\"fill:#262626;\" transform=\"translate(22.81375 147.279141)scale(0.11 -0.11)\">\n       <defs>\n        <path d=\"M 691 4666 \nL 3169 4666 \nL 3169 4134 \nL 1269 4134 \nL 1269 2991 \nQ 1406 3038 1543 3061 \nQ 1681 3084 1819 3084 \nQ 2600 3084 3056 2656 \nQ 3513 2228 3513 1497 \nQ 3513 744 3044 326 \nQ 2575 -91 1722 -91 \nQ 1428 -91 1123 -41 \nQ 819 9 494 109 \nL 494 744 \nQ 775 591 1075 516 \nQ 1375 441 1709 441 \nQ 2250 441 2565 725 \nQ 2881 1009 2881 1497 \nQ 2881 1984 2565 2268 \nQ 2250 2553 1709 2553 \nQ 1456 2553 1204 2497 \nQ 953 2441 691 2322 \nL 691 4666 \nz\n\" id=\"DejaVuSans-35\" transform=\"scale(0.015625)\"/>\n       </defs>\n       <use xlink:href=\"#DejaVuSans-35\"/>\n      </g>\n     </g>\n    </g>\n    <g id=\"ytick_6\">\n     <g id=\"line2d_11\">\n      <path clip-path=\"url(#p73d854fb35)\" d=\"M 39.3125 112.213636 \nL 597.3125 112.213636 \n\" style=\"fill:none;stroke:#ffffff;stroke-linecap:round;\"/>\n     </g>\n     <g id=\"text_12\">\n      <!-- 6 -->\n      <g style=\"fill:#262626;\" transform=\"translate(22.81375 116.392777)scale(0.11 -0.11)\">\n       <use xlink:href=\"#DejaVuSans-36\"/>\n      </g>\n     </g>\n    </g>\n    <g id=\"ytick_7\">\n     <g id=\"line2d_12\">\n      <path clip-path=\"url(#p73d854fb35)\" d=\"M 39.3125 81.327273 \nL 597.3125 81.327273 \n\" style=\"fill:none;stroke:#ffffff;stroke-linecap:round;\"/>\n     </g>\n     <g id=\"text_13\">\n      <!-- 7 -->\n      <g style=\"fill:#262626;\" transform=\"translate(22.81375 85.506413)scale(0.11 -0.11)\">\n       <defs>\n        <path d=\"M 525 4666 \nL 3525 4666 \nL 3525 4397 \nL 1831 0 \nL 1172 0 \nL 2766 4134 \nL 525 4134 \nL 525 4666 \nz\n\" id=\"DejaVuSans-37\" transform=\"scale(0.015625)\"/>\n       </defs>\n       <use xlink:href=\"#DejaVuSans-37\"/>\n      </g>\n     </g>\n    </g>\n    <g id=\"ytick_8\">\n     <g id=\"line2d_13\">\n      <path clip-path=\"url(#p73d854fb35)\" d=\"M 39.3125 50.440909 \nL 597.3125 50.440909 \n\" style=\"fill:none;stroke:#ffffff;stroke-linecap:round;\"/>\n     </g>\n     <g id=\"text_14\">\n      <!-- 8 -->\n      <g style=\"fill:#262626;\" transform=\"translate(22.81375 54.62005)scale(0.11 -0.11)\">\n       <use xlink:href=\"#DejaVuSans-38\"/>\n      </g>\n     </g>\n    </g>\n    <g id=\"ytick_9\">\n     <g id=\"line2d_14\">\n      <path clip-path=\"url(#p73d854fb35)\" d=\"M 39.3125 19.554545 \nL 597.3125 19.554545 \n\" style=\"fill:none;stroke:#ffffff;stroke-linecap:round;\"/>\n     </g>\n     <g id=\"text_15\">\n      <!-- 9 -->\n      <g style=\"fill:#262626;\" transform=\"translate(22.81375 23.733686)scale(0.11 -0.11)\">\n       <defs>\n        <path d=\"M 703 97 \nL 703 672 \nQ 941 559 1184 500 \nQ 1428 441 1663 441 \nQ 2288 441 2617 861 \nQ 2947 1281 2994 2138 \nQ 2813 1869 2534 1725 \nQ 2256 1581 1919 1581 \nQ 1219 1581 811 2004 \nQ 403 2428 403 3163 \nQ 403 3881 828 4315 \nQ 1253 4750 1959 4750 \nQ 2769 4750 3195 4129 \nQ 3622 3509 3622 2328 \nQ 3622 1225 3098 567 \nQ 2575 -91 1691 -91 \nQ 1453 -91 1209 -44 \nQ 966 3 703 97 \nz\nM 1959 2075 \nQ 2384 2075 2632 2365 \nQ 2881 2656 2881 3163 \nQ 2881 3666 2632 3958 \nQ 2384 4250 1959 4250 \nQ 1534 4250 1286 3958 \nQ 1038 3666 1038 3163 \nQ 1038 2656 1286 2365 \nQ 1534 2075 1959 2075 \nz\n\" id=\"DejaVuSans-39\" transform=\"scale(0.015625)\"/>\n       </defs>\n       <use xlink:href=\"#DejaVuSans-39\"/>\n      </g>\n     </g>\n    </g>\n    <g id=\"text_16\">\n     <!-- b -->\n     <g style=\"fill:#262626;\" transform=\"translate(16.318125 146.909062)rotate(-90)scale(0.12 -0.12)\">\n      <defs>\n       <path d=\"M 3116 1747 \nQ 3116 2381 2855 2742 \nQ 2594 3103 2138 3103 \nQ 1681 3103 1420 2742 \nQ 1159 2381 1159 1747 \nQ 1159 1113 1420 752 \nQ 1681 391 2138 391 \nQ 2594 391 2855 752 \nQ 3116 1113 3116 1747 \nz\nM 1159 2969 \nQ 1341 3281 1617 3432 \nQ 1894 3584 2278 3584 \nQ 2916 3584 3314 3078 \nQ 3713 2572 3713 1747 \nQ 3713 922 3314 415 \nQ 2916 -91 2278 -91 \nQ 1894 -91 1617 61 \nQ 1341 213 1159 525 \nL 1159 0 \nL 581 0 \nL 581 4863 \nL 1159 4863 \nL 1159 2969 \nz\n\" id=\"DejaVuSans-62\" transform=\"scale(0.015625)\"/>\n      </defs>\n      <use xlink:href=\"#DejaVuSans-62\"/>\n     </g>\n    </g>\n   </g>\n   <g id=\"PathCollection_1\">\n    <defs>\n     <path d=\"M 0 3.535534 \nC 0.937635 3.535534 1.836992 3.163008 2.5 2.5 \nC 3.163008 1.836992 3.535534 0.937635 3.535534 0 \nC 3.535534 -0.937635 3.163008 -1.836992 2.5 -2.5 \nC 1.836992 -3.163008 0.937635 -3.535534 0 -3.535534 \nC -0.937635 -3.535534 -1.836992 -3.163008 -2.5 -2.5 \nC -3.163008 -1.836992 -3.535534 -0.937635 -3.535534 0 \nC -3.535534 0.937635 -3.163008 1.836992 -2.5 2.5 \nC -1.836992 3.163008 -0.937635 3.535534 0 3.535534 \nz\n\" id=\"m3ee2ff49b4\" style=\"stroke:#ff0000;\"/>\n    </defs>\n    <g clip-path=\"url(#p73d854fb35)\">\n     <use style=\"fill:#ff0000;stroke:#ff0000;\" x=\"64.676136\" xlink:href=\"#m3ee2ff49b4\" y=\"266.645455\"/>\n     <use style=\"fill:#ff0000;stroke:#ff0000;\" x=\"121.039773\" xlink:href=\"#m3ee2ff49b4\" y=\"235.759091\"/>\n     <use style=\"fill:#ff0000;stroke:#ff0000;\" x=\"177.403409\" xlink:href=\"#m3ee2ff49b4\" y=\"266.645455\"/>\n    </g>\n   </g>\n   <g id=\"PathCollection_2\">\n    <defs>\n     <path d=\"M 0 3.535534 \nC 0.937635 3.535534 1.836992 3.163008 2.5 2.5 \nC 3.163008 1.836992 3.535534 0.937635 3.535534 0 \nC 3.535534 -0.937635 3.163008 -1.836992 2.5 -2.5 \nC 1.836992 -3.163008 0.937635 -3.535534 0 -3.535534 \nC -0.937635 -3.535534 -1.836992 -3.163008 -2.5 -2.5 \nC -3.163008 -1.836992 -3.535534 -0.937635 -3.535534 0 \nC -3.535534 0.937635 -3.163008 1.836992 -2.5 2.5 \nC -1.836992 3.163008 -0.937635 3.535534 0 3.535534 \nz\n\" id=\"m3baf7d19e3\" style=\"stroke:#0000ff;\"/>\n    </defs>\n    <g clip-path=\"url(#p73d854fb35)\">\n     <use style=\"fill:#0000ff;stroke:#0000ff;\" x=\"233.767045\" xlink:href=\"#m3baf7d19e3\" y=\"204.872727\"/>\n     <use style=\"fill:#0000ff;stroke:#0000ff;\" x=\"290.130682\" xlink:href=\"#m3baf7d19e3\" y=\"235.759091\"/>\n     <use style=\"fill:#0000ff;stroke:#0000ff;\" x=\"346.494318\" xlink:href=\"#m3baf7d19e3\" y=\"204.872727\"/>\n    </g>\n   </g>\n   <g id=\"PathCollection_3\">\n    <defs>\n     <path d=\"M 0 3.535534 \nC 0.937635 3.535534 1.836992 3.163008 2.5 2.5 \nC 3.163008 1.836992 3.535534 0.937635 3.535534 0 \nC 3.535534 -0.937635 3.163008 -1.836992 2.5 -2.5 \nC 1.836992 -3.163008 0.937635 -3.535534 0 -3.535534 \nC -0.937635 -3.535534 -1.836992 -3.163008 -2.5 -2.5 \nC -3.163008 -1.836992 -3.535534 -0.937635 -3.535534 0 \nC -3.535534 0.937635 -3.163008 1.836992 -2.5 2.5 \nC -1.836992 3.163008 -0.937635 3.535534 0 3.535534 \nz\n\" id=\"md3a3d394bd\" style=\"stroke:#ffa500;\"/>\n    </defs>\n    <g clip-path=\"url(#p73d854fb35)\">\n     <use style=\"fill:#ffa500;stroke:#ffa500;\" x=\"290.130682\" xlink:href=\"#md3a3d394bd\" y=\"81.327273\"/>\n     <use style=\"fill:#ffa500;stroke:#ffa500;\" x=\"346.494318\" xlink:href=\"#md3a3d394bd\" y=\"50.440909\"/>\n     <use style=\"fill:#ffa500;stroke:#ffa500;\" x=\"402.857955\" xlink:href=\"#md3a3d394bd\" y=\"81.327273\"/>\n    </g>\n   </g>\n   <g id=\"PathCollection_4\">\n    <defs>\n     <path d=\"M 0 3.535534 \nC 0.937635 3.535534 1.836992 3.163008 2.5 2.5 \nC 3.163008 1.836992 3.535534 0.937635 3.535534 0 \nC 3.535534 -0.937635 3.163008 -1.836992 2.5 -2.5 \nC 1.836992 -3.163008 0.937635 -3.535534 0 -3.535534 \nC -0.937635 -3.535534 -1.836992 -3.163008 -2.5 -2.5 \nC -3.163008 -1.836992 -3.535534 -0.937635 -3.535534 0 \nC -3.535534 0.937635 -3.163008 1.836992 -2.5 2.5 \nC -1.836992 3.163008 -0.937635 3.535534 0 3.535534 \nz\n\" id=\"mc9e31f16f0\" style=\"stroke:#000000;\"/>\n    </defs>\n    <g clip-path=\"url(#p73d854fb35)\">\n     <use style=\"stroke:#000000;\" x=\"459.221591\" xlink:href=\"#mc9e31f16f0\" y=\"19.554545\"/>\n     <use style=\"stroke:#000000;\" x=\"515.585227\" xlink:href=\"#mc9e31f16f0\" y=\"50.440909\"/>\n     <use style=\"stroke:#000000;\" x=\"571.948864\" xlink:href=\"#mc9e31f16f0\" y=\"19.554545\"/>\n    </g>\n   </g>\n   <g id=\"patch_3\">\n    <path d=\"M 39.3125 279 \nL 39.3125 7.2 \n\" style=\"fill:none;stroke:#ffffff;stroke-linecap:square;stroke-linejoin:miter;stroke-width:1.25;\"/>\n   </g>\n   <g id=\"patch_4\">\n    <path d=\"M 597.3125 279 \nL 597.3125 7.2 \n\" style=\"fill:none;stroke:#ffffff;stroke-linecap:square;stroke-linejoin:miter;stroke-width:1.25;\"/>\n   </g>\n   <g id=\"patch_5\">\n    <path d=\"M 39.3125 279 \nL 597.3125 279 \n\" style=\"fill:none;stroke:#ffffff;stroke-linecap:square;stroke-linejoin:miter;stroke-width:1.25;\"/>\n   </g>\n   <g id=\"patch_6\">\n    <path d=\"M 39.3125 7.2 \nL 597.3125 7.2 \n\" style=\"fill:none;stroke:#ffffff;stroke-linecap:square;stroke-linejoin:miter;stroke-width:1.25;\"/>\n   </g>\n   <g id=\"legend_1\">\n    <g id=\"patch_7\">\n     <path d=\"M 47.0125 80.58375 \nL 89.21125 80.58375 \nQ 91.41125 80.58375 91.41125 78.38375 \nL 91.41125 14.9 \nQ 91.41125 12.7 89.21125 12.7 \nL 47.0125 12.7 \nQ 44.8125 12.7 44.8125 14.9 \nL 44.8125 78.38375 \nQ 44.8125 80.58375 47.0125 80.58375 \nz\n\" style=\"fill:#eaeaf2;opacity:0.8;stroke:#cccccc;stroke-linejoin:miter;\"/>\n    </g>\n    <g id=\"PathCollection_5\">\n     <g>\n      <use style=\"fill:#ff0000;stroke:#ff0000;\" x=\"60.2125\" xlink:href=\"#m3ee2ff49b4\" y=\"22.570781\"/>\n     </g>\n    </g>\n    <g id=\"text_17\">\n     <!-- 0 -->\n     <g style=\"fill:#262626;\" transform=\"translate(80.0125 25.458281)scale(0.11 -0.11)\">\n      <use xlink:href=\"#DejaVuSans-30\"/>\n     </g>\n    </g>\n    <g id=\"PathCollection_6\">\n     <g>\n      <use style=\"fill:#0000ff;stroke:#0000ff;\" x=\"60.2125\" xlink:href=\"#m3baf7d19e3\" y=\"38.716719\"/>\n     </g>\n    </g>\n    <g id=\"text_18\">\n     <!-- 1 -->\n     <g style=\"fill:#262626;\" transform=\"translate(80.0125 41.604219)scale(0.11 -0.11)\">\n      <use xlink:href=\"#DejaVuSans-31\"/>\n     </g>\n    </g>\n    <g id=\"PathCollection_7\">\n     <g>\n      <use style=\"fill:#ffa500;stroke:#ffa500;\" x=\"60.2125\" xlink:href=\"#md3a3d394bd\" y=\"54.862656\"/>\n     </g>\n    </g>\n    <g id=\"text_19\">\n     <!-- 2 -->\n     <g style=\"fill:#262626;\" transform=\"translate(80.0125 57.750156)scale(0.11 -0.11)\">\n      <use xlink:href=\"#DejaVuSans-32\"/>\n     </g>\n    </g>\n    <g id=\"PathCollection_8\">\n     <g>\n      <use style=\"stroke:#000000;\" x=\"60.2125\" xlink:href=\"#mc9e31f16f0\" y=\"71.008594\"/>\n     </g>\n    </g>\n    <g id=\"text_20\">\n     <!-- 3 -->\n     <g style=\"fill:#262626;\" transform=\"translate(80.0125 73.896094)scale(0.11 -0.11)\">\n      <use xlink:href=\"#DejaVuSans-33\"/>\n     </g>\n    </g>\n   </g>\n  </g>\n </g>\n <defs>\n  <clipPath id=\"p73d854fb35\">\n   <rect height=\"271.8\" width=\"558\" x=\"39.3125\" y=\"7.2\"/>\n  </clipPath>\n </defs>\n</svg>\n",
      "image/png": "[encoded data removed]"
     },
     "metadata": {}
    }
   ],
   "source": [
    "ax = X_dtc[y_dtc == 0].plot(kind='scatter', x='a', y='b', s=50, c=\"red\")\n",
    "X_dtc[y_dtc == 1].plot(kind='scatter', x='a', y='b', s=50, c=\"blue\", ax=ax)\n",
    "X_dtc[y_dtc == 2].plot(kind='scatter', x='a', y='b', s=50, c=\"orange\", ax=ax)\n",
    "X_dtc[y_dtc == 3].plot(kind='scatter', x='a', y='b', s=50, c=\"black\", ax=ax)\n",
    "ax.legend([0, 1, 2, 3])"
   ]
  },
  {
   "cell_type": "markdown",
   "metadata": {},
   "source": [
    "### Step 2. Create the decision-tree classifier\n",
    "\n",
    "Next, we create the _decision-tree object_ for **decision tree mining**,\n",
    "and store it in the variable `dtm`.\n",
    "We supply an upper bound on the tree depth as argument."
   ]
  },
  {
   "cell_type": "code",
   "execution_count": 30,
   "metadata": {},
   "outputs": [],
   "source": [
    "dtc = DecisionTreeClassifier(max_depth=3)"
   ]
  },
  {
   "cell_type": "markdown",
   "metadata": {},
   "source": [
    "If you do not supply an upper bound,\n",
    "then the decision tree will grow as far as is 'necessary' to get the best result.\n",
    "\n",
    "A larger tree is not necessarily better. Large trees may **overfit**: produce good results on training data but poor results on test data."
   ]
  },
  {
   "cell_type": "markdown",
   "metadata": {},
   "source": [
    "### Step 3. Do the fitting\n",
    "\n",
    "Invoke the **`fit()`** function of the decision-tree object,\n",
    "supplying the selected data:"
   ]
  },
  {
   "cell_type": "code",
   "execution_count": 31,
   "metadata": {},
   "outputs": [
    {
     "output_type": "execute_result",
     "data": {
      "text/plain": [
       "DecisionTreeClassifier(max_depth=3)"
      ]
     },
     "metadata": {},
     "execution_count": 31
    }
   ],
   "source": [
    "dtc.fit(X_dtc, y_dtc)"
   ]
  },
  {
   "cell_type": "markdown",
   "metadata": {},
   "source": [
    "### Step 4.a. Extract model parameters\n",
    "\n",
    "In case of decision tree mining,\n",
    "the relevant attributes of the decision-tree classifier `dtc` are:\n",
    "\n",
    "* **`dtc.tree_`** : the _mined decision tree_\n",
    "  * **`dtc.tree_.node_count`** : the _number of nodes_ in the tree\n",
    "  * **`dtc.tree_.max_depth`** : the _depth_ of the tree, that is, the maximum distance from the root to any leaf\n",
    "* **`dtc.feature_importances_ `** : the _relative importance_ of each feature (explanatory variable)\n",
    "* **`dtc.classes_`** : the _inferred target values_ for the given features  \n",
    "\n",
    "It is convenient\n",
    "\n",
    "* to visualize the tree (see Step 4.b)\n",
    "\n",
    "* to convert the feature importances to a data frame\n",
    "    with the same column labels as the original data"
   ]
  },
  {
   "cell_type": "code",
   "execution_count": 32,
   "metadata": {},
   "outputs": [
    {
     "output_type": "execute_result",
     "data": {
      "text/plain": [
       "(7, 2)"
      ]
     },
     "metadata": {},
     "execution_count": 32
    }
   ],
   "source": [
    "dtc.tree_.node_count, dtc.tree_.max_depth"
   ]
  },
  {
   "cell_type": "code",
   "execution_count": 33,
   "metadata": {},
   "outputs": [
    {
     "output_type": "execute_result",
     "data": {
      "text/plain": [
       "          a         b\n",
       "0  0.666667  0.333333"
      ],
      "text/html": "<div>\n<style scoped>\n    .dataframe tbody tr th:only-of-type {\n        vertical-align: middle;\n    }\n\n    .dataframe tbody tr th {\n        vertical-align: top;\n    }\n\n    .dataframe thead th {\n        text-align: right;\n    }\n</style>\n<table border=\"1\" class=\"dataframe\">\n  <thead>\n    <tr style=\"text-align: right;\">\n      <th></th>\n      <th>a</th>\n      <th>b</th>\n    </tr>\n  </thead>\n  <tbody>\n    <tr>\n      <th>0</th>\n      <td>0.666667</td>\n      <td>0.333333</td>\n    </tr>\n  </tbody>\n</table>\n</div>"
     },
     "metadata": {},
     "execution_count": 33
    }
   ],
   "source": [
    "feature_importances = pd.DataFrame([dtc.feature_importances_], columns=X_dtc.columns)\n",
    "feature_importances"
   ]
  },
  {
   "cell_type": "code",
   "execution_count": 34,
   "metadata": {},
   "outputs": [
    {
     "output_type": "execute_result",
     "data": {
      "text/plain": [
       "array([0, 1, 2, 3])"
      ]
     },
     "metadata": {},
     "execution_count": 34
    }
   ],
   "source": [
    "dtc.classes_"
   ]
  },
  {
   "attachments": {
    "example-decision-tree.png": {
     "image/png": "[encoded data removed]"
    }
   },
   "cell_type": "markdown",
   "metadata": {},
   "source": [
    "### Step 4.b. Visualize the model\n",
    "\n",
    "Unfortunately,\n",
    "creating a _graphical representation_ of a decision tree\n",
    "(as shown in the image below) is [outside the scope of these lessons](http://scikit-learn.org/stable/modules/tree.html).\n",
    "\n",
    "![example-decision-tree.png](attachment:example-decision-tree.png)\n",
    "\n",
    "Instead, we use a (third-party) function **`tree_print()`**,\n",
    "which is imported from `treeviz.py`,\n",
    "to show a _textual representation_."
   ]
  },
  {
   "cell_type": "code",
   "execution_count": 38,
   "metadata": {},
   "outputs": [
    {
     "output_type": "error",
     "ename": "AttributeError",
     "evalue": "module 'treeviz' has no attribute 'visualize'",
     "traceback": [
      "\u001b[0;31m---------------------------------------------------------------------------\u001b[0m",
      "\u001b[0;31mAttributeError\u001b[0m                            Traceback (most recent call last)",
      "\u001b[0;32m<ipython-input-38-038210abaf82>\u001b[0m in \u001b[0;36m<module>\u001b[0;34m\u001b[0m\n\u001b[0;32m----> 1\u001b[0;31m \u001b[0mtreeviz\u001b[0m\u001b[0;34m.\u001b[0m\u001b[0mvisualize\u001b[0m\u001b[0;34m(\u001b[0m\u001b[0mdtc\u001b[0m\u001b[0;34m,\u001b[0m \u001b[0mX_dtc\u001b[0m\u001b[0;34m)\u001b[0m\u001b[0;34m\u001b[0m\u001b[0;34m\u001b[0m\u001b[0m\n\u001b[0m",
      "\u001b[0;31mAttributeError\u001b[0m: module 'treeviz' has no attribute 'visualize'"
     ]
    }
   ],
   "source": [
    "treeviz.visualize(dtc, X_dtc)"
   ]
  },
  {
   "cell_type": "markdown",
   "metadata": {},
   "source": [
    "Recall that we set `max_depth=3` when creating the decision-tree object.\n",
    "Apparently, the target can be predicted fully with a smaller tree,\n",
    "since the mined decision tree actually has only a depth of 2."
   ]
  },
  {
   "cell_type": "markdown",
   "metadata": {},
   "source": [
    "### Step 4.c. Assess the model's quality\n",
    "\n",
    "The quality of a decision tree can be expressed as its _accuracy_,\n",
    "obtained as follows:"
   ]
  },
  {
   "cell_type": "code",
   "execution_count": null,
   "metadata": {},
   "outputs": [],
   "source": [
    "dtc.score(X_dtc, y_dtc)"
   ]
  },
  {
   "cell_type": "markdown",
   "metadata": {},
   "source": [
    "This score is at best 1.0 (100% correct),\n",
    "and will drop towards 0.0 with less accuracy.\n",
    "\n",
    "> **NOTE:** _Accuracy_ treats all errors in the same way.\n",
    "When not all types of errors have the same impact\n",
    "(think of _false positives_ versus _false negatives_),\n",
    "accuracy is not a good measure.\n",
    "In such cases, it is better to produce a _confusion matrix_\n",
    "(see below)."
   ]
  },
  {
   "cell_type": "markdown",
   "metadata": {},
   "source": [
    "### Step 5. Make predictions\n",
    "\n",
    "Given one or more additional data points, you can find their predicted target value\n",
    "with the function **`predict()`**.\n",
    "\n",
    "Let's predict for the same points as we used for clustering."
   ]
  },
  {
   "cell_type": "code",
   "execution_count": null,
   "metadata": {},
   "outputs": [],
   "source": [
    "test_km"
   ]
  },
  {
   "cell_type": "code",
   "execution_count": null,
   "metadata": {},
   "outputs": [],
   "source": [
    "dtc.predict(test_km)"
   ]
  },
  {
   "attachments": {
    "decision-tree-regions.png": {
     "image/png": "[encoded data removed]"
    }
   },
   "cell_type": "markdown",
   "metadata": {},
   "source": [
    "Check these predictions.\n",
    "\n",
    "It may be helpful to consult the following plot\n",
    "(its creation is beyond the scope of these lessons),\n",
    "which shows the target (color) predicted by `dtm.predict()`\n",
    "for all points in the plot area .\n",
    "\n",
    "![decision-tree-regions.png](attachment:decision-tree-regions.png)"
   ]
  },
  {
   "cell_type": "markdown",
   "metadata": {},
   "source": [
    "## Exercises on decision trees\n",
    "\n",
    "Let us see if we can learn a decision tree to predict the origin of the cars in the Auto MPG data set."
   ]
  },
  {
   "cell_type": "markdown",
   "metadata": {},
   "source": [
    "### Exercise <span class=\"exercise\" id=\"exercise-depth-three-tree\">3.a</span>: Fit a decision tree\n",
    "\n",
    "Fit a decision tree with **maximum depth of $3$** using the _training data set_ to predict the `'origin'` column. Perform the following steps:\n",
    "\n",
    "**Step 1. Select the data**\n",
    "\n",
    "* Assign the following list of column labels to `features`: `'mpg', 'cylinders', 'displacement', 'weight', 'acceleration', 'year'`\n",
    "* Assign the columns with the features above to `X_features`\n",
    "* Assign the target column to `y_origin`\n",
    "\n",
    "**Step 2. Create the decision-tree object**\n",
    "\n",
    "* Assign the decision tree classifier to `dtc_depth_3`,\n",
    "\n",
    "**Step 3. Fit the model**\n",
    "\n",
    "**Step 4. Extract model parameters**\n",
    "\n",
    "* Create a data frame `feature_importances_depth_3` with the _relative importance_ of feature"
   ]
  },
  {
   "cell_type": "code",
   "execution_count": null,
   "metadata": {},
   "outputs": [],
   "source": [
    "#// BEGIN_TODO [DMM_3a] Decision tree (3 points)\n",
    "\n",
    "# ===== =====> Replace this line by your code. <===== ===== #\n",
    "\n",
    "#// END_TODO [DMM_3a]\n",
    "\n",
    "feature_importances_depth_3"
   ]
  },
  {
   "cell_type": "markdown",
   "metadata": {},
   "source": [
    "### Exercise <span class=\"exercise\">3.b</span>: Accuracy of the decision tree\n",
    "\n",
    "Assess the quality of the decision tree on the training set by computing the accuracy. Assign your answer to the variable `acc_depth_3_train`."
   ]
  },
  {
   "cell_type": "code",
   "execution_count": null,
   "metadata": {},
   "outputs": [],
   "source": [
    "#// BEGIN_TODO [DMM_3b] accuracy for a decision tree of depth <= 3 (2 points)\n",
    "\n",
    "# ===== =====> Replace this line by your code. <===== ===== #\n",
    "\n",
    "#// END_TODO [DMM_3b]\n",
    "\n",
    "acc_depth_3_train"
   ]
  },
  {
   "cell_type": "markdown",
   "metadata": {},
   "source": [
    "### Exercise <span class=\"exercise\">3.c</span>: Representation of the decision tree\n",
    "\n",
    "Show a textual representation of the decision tree."
   ]
  },
  {
   "cell_type": "code",
   "execution_count": null,
   "metadata": {},
   "outputs": [],
   "source": [
    "#// BEGIN_TODO [DMM_3c] Show a textual representation of decision tree (1 point)\n",
    "\n",
    "# ===== =====> Replace this line by your code. <===== ===== #\n",
    "\n",
    "#// END_TODO [DMM_3c]"
   ]
  },
  {
   "cell_type": "markdown",
   "metadata": {},
   "source": [
    "### Exercise <span class=\"exercise\">3.d</span>: Test-set accuracy\n",
    "\n",
    "The obtained decision tree gives us a simple scheme to predict the origin of cars based on their features. Let us see how good these predictions are for the cars in the test set: Assess the quality of the decision tree by computing its accuracy for the _test set_. \n",
    "\n",
    "Assign:\n",
    "\n",
    "* The relevant features from the test set to a data frame `X_features_test`\n",
    "* The origins from the test set to a data frame `y_origin_test`\n",
    "* your answer to the variable `acc_depth_3_test`."
   ]
  },
  {
   "cell_type": "code",
   "execution_count": null,
   "metadata": {},
   "outputs": [],
   "source": [
    "#// BEGIN_TODO [DMM_3d] Test-set accuracy (1 point)\n",
    "\n",
    "# ===== =====> Replace this line by your code. <===== ===== #\n",
    "\n",
    "#// END_TODO [DMM_3d]\n",
    "\n",
    "acc_depth_3_test"
   ]
  },
  {
   "cell_type": "markdown",
   "metadata": {},
   "source": [
    "# <span class=\"section\">4.</span> Accuracy and Confusion Matrix\n",
    "\n",
    "To assess or compare the **quality** of mined models,\n",
    "you can check a set of **predicted values**\n",
    "against the corresponding **known correct values**.\n",
    "\n",
    "The simplest quality measure is the **accuracy** of the model:\n",
    "\n",
    "* the fraction of correctly predicted values in the test set.\n",
    "\n",
    "Suppose we have a test set of 20 rows,\n",
    "and our model produces 20 predictions `y_pred` (a Pandas `Series` object).\n",
    "Furthermore, we have the corresponding correct (actual) values in `y_true`.\n",
    "\n",
    "Here is concrete example data:"
   ]
  },
  {
   "cell_type": "code",
   "execution_count": null,
   "metadata": {},
   "outputs": [],
   "source": [
    "y_true = pd.Series([1, 1, 1, 1, 1, 1, 1, 1, 1, 1, 2, 2, 2, 2, 2, 3, 3, 3, 3, 3], name='actual')\n",
    "y_pred = pd.Series([1, 1, 1, 1, 1, 1, 1, 1, 2, 2, 1, 1, 2, 2, 2, 1, 1, 1, 1, 3], name='predicted')\n",
    "y_true.count()"
   ]
  },
  {
   "cell_type": "markdown",
   "metadata": {},
   "source": [
    "The _accuracy_ can be computed as follows\n",
    "with the SciKit Learn function **`accuracy_score()`**:"
   ]
  },
  {
   "cell_type": "code",
   "execution_count": null,
   "metadata": {},
   "outputs": [],
   "source": [
    "accuracy_score(y_true, y_pred)  # fraction of correct predictions"
   ]
  },
  {
   "cell_type": "markdown",
   "metadata": {},
   "source": [
    "Apparently, 60% of the predictions were correct in this example (note that floating-point arithmetic is inherently inaccurate).\n",
    "\n",
    "> **NOTE:** A decision tree's `.score()` function also computes the accuracy. For example, given training set `X_features` and `y_true`, a decision tree classifier`dtc` and predicted labels `y_pred = dtc.predict(X_features)`, then `dtc.score(X_features, y_true)` will return the same accuracy value as `accuracy_score(y_true, y_pred)`.\n",
    "\n",
    "You can get the (absolute rather than relative) number of correct predictions\n",
    "by supplying the optional argument `normalize=False`:"
   ]
  },
  {
   "cell_type": "code",
   "execution_count": null,
   "metadata": {},
   "outputs": [],
   "source": [
    "accuracy_score(y_true, y_pred, normalize=False)  # number of correct predictions"
   ]
  },
  {
   "cell_type": "markdown",
   "metadata": {},
   "source": [
    "In practice, not all prediction errors have the same impact.\n",
    "Consider a test for a curable deadly disease:\n",
    "\n",
    "* A _false positive_ means that you are diagnosed as being ill,\n",
    "  when in fact you are not.\n",
    "  Of course, that means you will be treated unnecessarily\n",
    "  (extra cost, extra stress), but you will live.\n",
    "* A _false negative_ means that you are diagnosed as healthy,\n",
    "  when in fact you are badly ill.\n",
    "  That means you won't receive treatment, and most likely you will die.\n",
    "\n",
    "A quality measure that takes this difference into account is the\n",
    "**confusion matrix**, containing the occurrence frequency for each combination of actual value and predicted value.\n",
    "\n",
    "The _confusion matrix_ can be computed as follows\n",
    "with the SciKit Learn function **`confusion_matrix()`**:"
   ]
  },
  {
   "cell_type": "code",
   "execution_count": null,
   "metadata": {},
   "outputs": [],
   "source": [
    "cm = confusion_matrix(y_true, y_pred)  # cm[i, j] == number of values i predicted as j\n",
    "cm"
   ]
  },
  {
   "cell_type": "markdown",
   "metadata": {},
   "source": [
    "It is convenient to convert the confusion matrix to a data frame and include row and column labels:"
   ]
  },
  {
   "cell_type": "code",
   "execution_count": null,
   "metadata": {},
   "outputs": [],
   "source": [
    "values = [1, 2, 3]\n",
    "pd.DataFrame(cm, index=values, columns=values)"
   ]
  },
  {
   "cell_type": "markdown",
   "metadata": {},
   "source": [
    "The entry in **row** $i$ and **column** $j$ is the number of tests\n",
    "whose **actual** value is $i$ and whose **predicted** value is $j$.\n",
    "\n",
    "> **NOTE**: In some other places, you may encounter a _transposed_ confusion matrix,\n",
    "> that is, where the role of _rows_ and _columns_ has been interchanged.  \n",
    "> Therefore, be careful when you interpret a confusion matrix,\n",
    "> and when you report a confusion matrix to others,\n",
    "> clearly indicated the role of rows and columns.\n",
    "\n",
    "On the main diagonal (from top left to bottom right) of the confusion matrix,\n",
    "we see the correct predictions.\n",
    "In our example: $8 + 3 + 1 = 12$.\n",
    "\n",
    "From this confusion matrix we can see two more things.\n",
    "\n",
    "First, by considering each of the three _rows_ we infer:\n",
    "\n",
    "| **Value** | **Predicted correctly** |\n",
    "| --------- | ----------------------- |\n",
    "| 1 | 8 / (8+2+0) = 80% |\n",
    "| 2 | 3 / (2+3+0) = 60% |\n",
    "| 3 | 1 / (4+0+1) = 20% |\n",
    "\n",
    "Second, by considering each of the three _columns_ we infer:\n",
    "\n",
    "| **Predicted value** | **Correct** |\n",
    "| ------------------- | ----------- |\n",
    "| 1 | 8 / (8+2+4) = 57% |\n",
    "| 2 | 3 / (2+3+0) = 60% |\n",
    "| 3 | 1 / (0+0+1) = 100% |\n",
    "\n",
    "Especially notice the big difference for the value 3.\n",
    "It has\n",
    "\n",
    "* $1$ _true positive_\n",
    "* $8+2+2+3 = 15$ _true negatives_\n",
    "* $0+0 = 0$ _false positives_\n",
    "* $4+0 = 4$ _false negatives_\n",
    "\n",
    "Therefore,\n",
    "\n",
    "* in 20% of the cases _where the actual value is 3_, it is correctly predicted as 3.\n",
    "* in 100% of the cases _where the value is predicted as 3_, that prediction is correct."
   ]
  },
  {
   "cell_type": "markdown",
   "metadata": {},
   "source": [
    "## Exercises on accuracy scores and confusion matrices\n",
    "\n",
    "With the help of accuracy scores and confusion matrices we can measure the quality of the decision tree created in the previous exercise."
   ]
  },
  {
   "cell_type": "markdown",
   "metadata": {},
   "source": [
    "### Exercise <span class=\"exercise\">4.a</span>: Accuracy and confusion matrix\n",
    "\n",
    "Compute the accuracy and confusion matrix for the decision tree `dtc_depth_3` on the test data. You can reuse the data frames `X_features_test` and `y_origin_test` created before.\n",
    "\n",
    "Assign\n",
    "\n",
    "* the predicted classification for all cars in the test set to the variable `y_pred_depth_3`,\n",
    "* the accuracy of the tree to `acc_depth_3_test`,\n",
    "* the confusion matrix to `cm_depth_3_test`."
   ]
  },
  {
   "cell_type": "code",
   "execution_count": null,
   "metadata": {},
   "outputs": [],
   "source": [
    "#// BEGIN_TODO [DMM_4a] Accuracy and confusion matrix (3 points)\n",
    "\n",
    "# ===== =====> Replace this line by your code. <===== ===== #\n",
    "\n",
    "#// END_TODO [DMM_4a]\n",
    "\n",
    "print(acc_depth_3_test)\n",
    "pd.DataFrame(cm_depth_3_test, index=['American','European','Japanese'], columns=['Predicted American','Predicted European','Predicted Japanese'])"
   ]
  },
  {
   "cell_type": "markdown",
   "metadata": {},
   "source": [
    "### Exercise <span class=\"exercise\">4.b</span>: Fraction of Japanese cars predicted correctly\n",
    "\n",
    "What fraction Japanese cars is predicted correctly?  \n",
    "Assign your numeric answer to the variable `fraction_Japanese_correct`."
   ]
  },
  {
   "cell_type": "code",
   "execution_count": null,
   "metadata": {},
   "outputs": [],
   "source": [
    "#// BEGIN_TODO [DMM_4b] Fraction Japanese cars predicted correctly (1 point)\n",
    "\n",
    "# ===== =====> Replace this line by your code. <===== ===== #\n",
    "\n",
    "#// END_TODO [DMM_4b]\n",
    "\n",
    "fraction_Japanese_correct"
   ]
  },
  {
   "cell_type": "markdown",
   "metadata": {},
   "source": [
    "Documentation for these SciKit Learn functions in [`sklearn.metrics`](http://scikit-learn.org/stable/modules/model_evaluation.html):\n",
    "\n",
    "* [`accuracy_score`](http://scikit-learn.org/stable/modules/generated/sklearn.metrics.accuracy_score.html#sklearn.metrics.accuracy_score)\n",
    "* [`confusion_matrix`](http://scikit-learn.org/stable/modules/generated/sklearn.metrics.confusion_matrix.html#sklearn.metrics.confusion_matrix)"
   ]
  },
  {
   "cell_type": "markdown",
   "metadata": {},
   "source": [
    "---"
   ]
  },
  {
   "cell_type": "markdown",
   "metadata": {},
   "source": [
    "# <span class=\"section\">5.</span> Exercise: Different models for linear regression\n",
    "\n",
    "In the remaining exercises you will need to work more independently and apply the techniques you have learned earlier. \n",
    "\n",
    "In Exercise 1, we fitted a linear model 'explaining' `mpg` from `weight`. In this exercise, we will add more explanatory variables, and see whether the predictions become more accurate. "
   ]
  },
  {
   "cell_type": "markdown",
   "metadata": {},
   "source": [
    "### Exercise <span class=\"exercise\">5.a</span>: Linear model 'explaining' `mpg` from `weight` and `horsepower`\n",
    "\n",
    "Fit a linear regression model with `mpg` as dependent variable,\n",
    "and both `weight` and `horsepower` as explanatory variables.\n",
    "\n",
    "Assign\n",
    "\n",
    "* the data for the explanatory variables to `X_weight_hp`,\n",
    "* the data for the dependent variable to `y_mpg`,\n",
    "* the fitted regression object to `reg_mpg_weight_hp`,\n",
    "* the coefficient to `coef_mpg_weight_hp`, and\n",
    "* the intercept to `intercept_mpg_weight_hp`,\n",
    "* $R^2$ evaluated on the training set to `R2_mpg_weight_hp`."
   ]
  },
  {
   "cell_type": "code",
   "execution_count": null,
   "metadata": {},
   "outputs": [],
   "source": [
    "#// BEGIN_TODO [DMM_5a] Linear model explaining mpg from weight and horsepower (5 points)\n",
    "\n",
    "# ===== =====> Replace this line by your code. <===== ===== #\n",
    "\n",
    "#// END_TODO [DMM_5a]\n",
    "\n",
    "coef_mpg_weight_hp, intercept_mpg_weight_hp, R2_mpg_weight_hp"
   ]
  },
  {
   "cell_type": "markdown",
   "metadata": {},
   "source": [
    "### Exercise <span class=\"exercise\">5.b</span>: Did $R^2$ improve?\n",
    "\n",
    "Does this model have a better $R^2$ than the model using only the weight as explanatory variable? Assign your boolean answer to the variable `R2_higher_for_weight_hp`."
   ]
  },
  {
   "cell_type": "code",
   "execution_count": null,
   "metadata": {},
   "outputs": [],
   "source": [
    "#// BEGIN_TODO [DMM_5b] Is this model better than the preceding models? (1 point)\n",
    "\n",
    "# ===== =====> Replace this line by your code. <===== ===== #\n",
    "\n",
    "#// END_TODO [DMM_5b]\n",
    "\n",
    "R2_higher_for_weight_hp"
   ]
  },
  {
   "cell_type": "markdown",
   "metadata": {},
   "source": [
    "Why does that make sense?"
   ]
  },
  {
   "cell_type": "markdown",
   "metadata": {},
   "source": [
    "### Exercise <span class=\"exercise\">5.c</span>: Cross term and quadratic term\n",
    "\n",
    "The relationship between `mpg` and the `weight` may actually depend on the `horsepower`. Such dependencies can be captured with cross terms.\n",
    "\n",
    "Fit a model with `mpg` as dependent variable,\n",
    "and four explanatory variables:\n",
    "\n",
    "> `weight`, `horsepower`, `weight` $\\times$ `horsepower`, and `weight`${}^2$.\n",
    "\n",
    "Which percentage of the variation in `mpg` is explained by the variation in these four factors?\n",
    "\n",
    "Assign\n",
    "\n",
    "* the data for the explanatory variable to `X_ct_qt`, with column names `'weight'`, `'horsepower'`, `'weight x hp'` and `'weight^2'`,\n",
    "* the data for the dependent variable to `y_ct_qt`,\n",
    "* the fitted regression object to `reg_ct_qt`,\n",
    "* the coefficient to `coef_ct_qt`, and\n",
    "* the intercept to `intercept_ct_qt`,\n",
    "* $R^2$ evaluated on the training set to `R2_ct_qt`."
   ]
  },
  {
   "cell_type": "code",
   "execution_count": null,
   "metadata": {},
   "outputs": [],
   "source": [
    "#// BEGIN_TODO [DMM_5c] Model with cross term and quadratic term explaining mpg from weight and horsepower (5 points)\n",
    "\n",
    "# ===== =====> Replace this line by your code. <===== ===== #\n",
    "\n",
    "#// END_TODO [DMM_5c]\n",
    "\n",
    "coef_ct_qt, intercept_ct_qt, R2_ct_qt"
   ]
  },
  {
   "cell_type": "markdown",
   "metadata": {},
   "source": [
    "### Exercise <span class=\"exercise\">5.d</span>: Did $R^2$ improve?\n",
    "\n",
    "Does this model have a better $R^2$ than the model with just the cross term, or just the quadratic term?  \n",
    "Assign your boolean answer to the variable `R2_higher_for_weight2_hp`."
   ]
  },
  {
   "cell_type": "code",
   "execution_count": null,
   "metadata": {},
   "outputs": [],
   "source": [
    "#// BEGIN_TODO [DMM_5d] Is this better than just cross term or quadratic separately? (1 point)\n",
    "\n",
    "# ===== =====> Replace this line by your code. <===== ===== #\n",
    "\n",
    "#// END_TODO [DMM_5d]\n",
    "\n",
    "R2_higher_for_weight2_hp"
   ]
  },
  {
   "cell_type": "markdown",
   "metadata": {},
   "source": [
    "### Exercise <span class=\"exercise\">5.e</span>: Fitting high-degree polynomials\n",
    "\n",
    "In this exercise we are going to see what happens if we fit a polynomial model of very high order. We will first scale the weights by dividing them by $5000$ and adding the resulting values to the data frame. "
   ]
  },
  {
   "cell_type": "code",
   "execution_count": null,
   "metadata": {},
   "outputs": [],
   "source": [
    "df_mpg_train['s_w'] = df_mpg_train['weight']/5000"
   ]
  },
  {
   "cell_type": "markdown",
   "metadata": {},
   "source": [
    "We now create a data frame `X_high_order` with columns `'s_w^2'`, `'s_w^3'`, up to `'s_w^100'`. "
   ]
  },
  {
   "cell_type": "code",
   "execution_count": null,
   "metadata": {},
   "outputs": [],
   "source": [
    "order = 100\n",
    "\n",
    "X_high_order = df_mpg_train[['s_w']].copy()\n",
    "\n",
    "for n in range(2,order+1):\n",
    "    X_high_order[('s_w^' + str(n))] = X_high_order['s_w']**n\n",
    "    \n",
    "X_high_order.head()"
   ]
  },
  {
   "cell_type": "markdown",
   "metadata": {},
   "source": [
    "Fit a linear regression model explaining `mpg` from `weight` of order $100$, using all the columns in the `X_high_order` data frame.\n",
    "\n",
    "Assign\n",
    "\n",
    "* The regression object to `reg_high_order`\n",
    "* $R^2$ of the model evaluated on the training set to `R2_high_order`"
   ]
  },
  {
   "cell_type": "code",
   "execution_count": null,
   "metadata": {},
   "outputs": [],
   "source": [
    "#// BEGIN_TODO [DMM_5e] Polynomial model of very high order (5 points)\n",
    "\n",
    "# ===== =====> Replace this line by your code. <===== ===== #\n",
    "\n",
    "#// END_TODO [DMM_5e]\n",
    "\n",
    "R2_high_order"
   ]
  },
  {
   "cell_type": "markdown",
   "metadata": {},
   "source": [
    "### Exercise <span class=\"exercise\">5.f</span>: Evaluate $R^2$ on test data\n",
    "\n",
    "Of course, the $R^2$ score of our high-order model evaluated on the training data is higher than that of the quadratic model. Let us now see how good the high-order model is at predicting the fuel efficiency of the cars in the test data. First, we need to prepare the test data."
   ]
  },
  {
   "cell_type": "code",
   "execution_count": null,
   "metadata": {},
   "outputs": [],
   "source": [
    "df_mpg_test['s_w'] = df_mpg_test['weight']/5000\n",
    "\n",
    "X_high_order_test = df_mpg_test[['s_w']].copy()\n",
    "\n",
    "for n in range(2,order+1):\n",
    "    X_high_order_test[('s_w^' + str(n))] = X_high_order_test['s_w']**n"
   ]
  },
  {
   "cell_type": "markdown",
   "metadata": {},
   "source": [
    "Now compute $R^2$ for the test data. Assign your answer to the variable `R2_high_order_test`."
   ]
  },
  {
   "cell_type": "code",
   "execution_count": null,
   "metadata": {},
   "outputs": [],
   "source": [
    "#// BEGIN_TODO [DMM_5f] Is this better than previous models? (1 point)\n",
    "\n",
    "# ===== =====> Replace this line by your code. <===== ===== #\n",
    "\n",
    "#// END_TODO [DMM_5f]\n",
    "\n",
    "R2_high_order_test"
   ]
  },
  {
   "cell_type": "markdown",
   "metadata": {},
   "source": [
    "### Exercise <span class=\"exercise\">5.g</span>: Preparation for visualization\n",
    "\n",
    "If we try to plot a $100$th order model with Seaborn, we will get a lot of warnings and the plot will not look so good. That is why we will plot this model by hand. \n",
    "\n",
    "We create a special visualization data set. We make a list of $10001$ weights, equally spaced between $1500$ and $5200$ lbs. Next, we use the $100$-th order model to predict the corresponding mpg."
   ]
  },
  {
   "cell_type": "code",
   "execution_count": null,
   "metadata": {},
   "outputs": [],
   "source": [
    "weights = pd.Series( [ 1500. + n * (5200 - 1500)/10000 for n in range(10001) ] )\n",
    "df_vis = pd.DataFrame( weights, columns = ['weight'] )"
   ]
  },
  {
   "cell_type": "markdown",
   "metadata": {},
   "source": [
    "Next, we create a new data frame `X_vis` which contains the scaled weights in a column `'s_w'`, and powers of the scaled weights in columns `'s_w^2'`, `'s_w^2'`, ... `'s_w^100'`."
   ]
  },
  {
   "cell_type": "code",
   "execution_count": null,
   "metadata": {},
   "outputs": [],
   "source": [
    "X_vis  = pd.DataFrame(weights/5000, columns=['s_w'])\n",
    "\n",
    "for n in range(2,order+1):\n",
    "    X_vis[('s_w' + str(n))] = X_vis['s_w']**n"
   ]
  },
  {
   "cell_type": "markdown",
   "metadata": {},
   "source": [
    "Add to the data frame `df_vis` a column labeled `'predicted_mpg'` containing the predicted mpg according to the $100$th order model."
   ]
  },
  {
   "cell_type": "code",
   "execution_count": null,
   "metadata": {},
   "outputs": [],
   "source": [
    "#// BEGIN_TODO [DMM_5g] Preparation for visualization (1 point)\n",
    "\n",
    "# ===== =====> Replace this line by your code. <===== ===== #\n",
    "\n",
    "#// END_TODO [DMM_5g]"
   ]
  },
  {
   "cell_type": "markdown",
   "metadata": {},
   "source": [
    "### Exercise <span class=\"exercise\">5.h</span>: Visualize the high-order model"
   ]
  },
  {
   "cell_type": "markdown",
   "metadata": {},
   "source": [
    "Plot in one figure (superimposed):\n",
    "* A line plot of the predicted mpg against the weight, for the visualization data set\n",
    "* A scatter plot of mpg vs weight for the training data set\n",
    "* A scatter plot of mpg vs weight for the test data set\n",
    "\n",
    "Set the limits of the $y$-axis between 0 and 50.\n",
    "\n",
    "Hint: you can specify which columns to include in a line plot using the `x=...` and `y=...` arguments, similar to a scatter plot."
   ]
  },
  {
   "cell_type": "code",
   "execution_count": null,
   "metadata": {},
   "outputs": [],
   "source": [
    "#// BEGIN_TODO [DMM_5h] Visualization of high-order model (3 points)\n",
    "\n",
    "# ===== =====> Replace this line by your code. <===== ===== #\n",
    "\n",
    "#// END_TODO [DMM_5h]"
   ]
  },
  {
   "cell_type": "markdown",
   "metadata": {},
   "source": [
    "### Exercise <span class=\"exercise\">5.i</span>: High-order model predictions\n",
    "\n",
    "Find cars in the test set for which the predicted mpg has a ridiculous value (i.e. larger than 1500). How many are there? Assign this number to `number_of_too_high_predictions`."
   ]
  },
  {
   "cell_type": "code",
   "execution_count": null,
   "metadata": {},
   "outputs": [],
   "source": [
    "#// BEGIN_TODO [DMM_5i] High-order model predictions (1 point)\n",
    "\n",
    "# ===== =====> Replace this line by your code. <===== ===== #\n",
    "\n",
    "#// END_TODO [DMM_5i]\n",
    "\n",
    "number_of_too_high_predictions"
   ]
  },
  {
   "cell_type": "markdown",
   "metadata": {},
   "source": [
    "# <span class=\"section\">6.</span> Exercise: Depths of decision trees\n",
    "\n",
    "In <span class=\"exercise_ref\"><a href=\"#exercise-depth-three-tree\">Exercise 3.a</a></span> we have created a decision tree of depth 3 to classify cars into their origins. In this exercise, we will investigate what happens to the decision trees when we do not put a maximum on the depth of the tree.\n",
    "We can decide how deep we allow a decision tree to be,\n",
    "by setting the appropriate parameter."
   ]
  },
  {
   "cell_type": "markdown",
   "metadata": {},
   "source": [
    "### Exercise <span class=\"exercise\" id=\"ex_tree\">6.a</span>: Decision tree of unbounded maximum depth\n",
    "\n",
    "Let's see what happens if we leave the decision tree unbounded. Fit a decision tree with unspecified maximum depth to predict the `origin`.\n",
    "\n",
    "Assign the decision tree classifier to `dtc_unbdd`.\n",
    "\n",
    "Hint: use the `X_features` and `y_origin` that you have defined earlier."
   ]
  },
  {
   "cell_type": "code",
   "execution_count": null,
   "metadata": {},
   "outputs": [],
   "source": [
    "#// BEGIN_TODO [DMM_6a] Unbounded decision tree (2 points)\n",
    "\n",
    "# ===== =====> Replace this line by your code. <===== ===== #\n",
    "\n",
    "#// END_TODO [DMM_6a]"
   ]
  },
  {
   "cell_type": "code",
   "execution_count": null,
   "metadata": {},
   "outputs": [],
   "source": [
    "tree_print(dtc_unbdd, X_features)"
   ]
  },
  {
   "cell_type": "markdown",
   "metadata": {},
   "source": [
    "### Exercise <span class=\"exercise\">6.b</span>: Depth of tree\n",
    "\n",
    "Which depth level does the tree assume?  \n",
    "Assign your integer answer to the variable `depth_level_tree`."
   ]
  },
  {
   "cell_type": "code",
   "execution_count": null,
   "metadata": {},
   "outputs": [],
   "source": [
    "#// BEGIN_TODO [DMM_6b] Depth of unbounded tree (1 point)\n",
    "\n",
    "# ===== =====> Replace this line by your code. <===== ===== #\n",
    "\n",
    "#// END_TODO [DMM_6b]\n",
    "\n",
    "depth_level_tree"
   ]
  },
  {
   "cell_type": "markdown",
   "metadata": {},
   "source": [
    "### Exercise <span class=\"exercise\">6.c</span>: Quality of unbounded tree\n",
    "\n",
    "Does the tree of <span class=\"reference\" ref=\"ex_tree\"><a href=\"#ex_tree\">Exercise 6.a</a></span> make any mistakes on the training set?\n",
    "If so, for which origin?\n",
    "\n",
    "Assign\n",
    "\n",
    "* the predicted classification for all cars in the _training data set_ to the variable `y_pred_unbdd_train`,\n",
    "* the accuracy of the tree for the _training data set_ to `accuracy_unbdd_train`,\n",
    "* the confusion matrix for the _training data set_ to `cm_unbdd_train`."
   ]
  },
  {
   "cell_type": "code",
   "execution_count": null,
   "metadata": {},
   "outputs": [],
   "source": [
    "#// BEGIN_TODO [DMM_6c] Accuracy and confusion matrix (3 points)\n",
    "\n",
    "# ===== =====> Replace this line by your code. <===== ===== #\n",
    "\n",
    "#// END_TODO [DMM_6c]\n",
    "\n",
    "print(accuracy_unbdd_train)\n",
    "pd.DataFrame(cm_unbdd_train, index=['American','European','Japanese'], columns=['Predicted American','Predicted European','Predicted Japanese'])"
   ]
  },
  {
   "cell_type": "markdown",
   "metadata": {},
   "source": [
    "### Exercise <span class=\"exercise\">6.d</span>: Accuracy and confusion matrix for test set\n",
    "\n",
    "The unbounded depth tree performs well on the training data set. But how good is it for predicting the origin of cars for data it has not seen before? \n",
    "\n",
    "Compute the accuracy and confusion matrix for the predictions of the unbounded decision tree on the test set.\n",
    "\n",
    "Assign\n",
    "\n",
    "* the predicted classification for all cars in the _test data set_ to the variable `y_pred_unbdd_test`,\n",
    "* the accuracy of the tree for the _test data set_ to `accuracy_unbdd_test`,\n",
    "* the confusion matrix for the _test data set_ to `cm_unbdd_test`."
   ]
  },
  {
   "cell_type": "code",
   "execution_count": null,
   "metadata": {},
   "outputs": [],
   "source": [
    "#// BEGIN_TODO [DMM_6d] Accuracy and confusion matrix for the test set (3 points)\n",
    "\n",
    "# ===== =====> Replace this line by your code. <===== ===== #\n",
    "\n",
    "#// END_TODO [DMM_6d]\n",
    "\n",
    "print(accuracy_unbdd_test)\n",
    "pd.DataFrame(cm_unbdd_test, index=['American','European','Japanese'], columns=['Predicted American','Predicted European','Predicted Japanese'])"
   ]
  },
  {
   "cell_type": "markdown",
   "metadata": {},
   "source": [
    "### Exercise <span class=\"exercise\">6.e</span>: Most appropriate tree\n",
    "\n",
    "Which of the trees we have considered in this exercise, and Exercise 3, seems most appropriate to you and why?\n",
    "\n",
    ">a. The unbounded tree, because it makes the least mistakes\n",
    ">\n",
    ">b. The tree of depth 3, because it has the best balance between accuracy and simplicity\n",
    "\n",
    "Assign your answer (string `'a'` or `'b'`) to the variable `most_appropriate_tree`."
   ]
  },
  {
   "cell_type": "code",
   "execution_count": null,
   "metadata": {},
   "outputs": [],
   "source": [
    "#// BEGIN_TODO [DMM_6e] Most appropriate tree? (1 point)\n",
    "\n",
    "# ===== =====> Replace this line by your code. <===== ===== #\n",
    "\n",
    "#// END_TODO [DMM_6e]\n",
    "\n",
    "most_appropriate_tree"
   ]
  },
  {
   "cell_type": "markdown",
   "metadata": {},
   "source": [
    "# Feedback\n",
    "\n",
    "Please fill in this questionaire to help us improve this course for the next year. Your feedback will be anonymized and will not affect your grade in any way!"
   ]
  },
  {
   "cell_type": "markdown",
   "metadata": {},
   "source": [
    "### How many hours did you spend on these Exercises?\n",
    "\n",
    "Assign a number to `feedback_time`."
   ]
  },
  {
   "cell_type": "code",
   "execution_count": null,
   "metadata": {},
   "outputs": [],
   "source": [
    "#// BEGIN_TODO [Feedback_1] (0 point)\n",
    "\n",
    "# ===== =====> Replace this line by your code. <===== ===== #\n",
    "\n",
    "#// END_TODO [Feedback_1] (0 point)\n",
    "\n",
    "import numbers\n",
    "assert isinstance(feedback_time, numbers.Number), \"Please assign a number to feedback_time\"\n",
    "feedback_time"
   ]
  },
  {
   "cell_type": "markdown",
   "metadata": {},
   "source": [
    "### How difficult did you find these Exercises?\n",
    "\n",
    "Assign an integer to `feedback_difficulty`, on a scale 1 - 10, with 1 being very easy."
   ]
  },
  {
   "cell_type": "code",
   "execution_count": null,
   "metadata": {},
   "outputs": [],
   "source": [
    "#// BEGIN_TODO [Feedback_2] (0 point)\n",
    "\n",
    "# ===== =====> Replace this line by your code. <===== ===== #\n",
    "\n",
    "#// END_TODO [Feedback_2] (0 point)\n",
    "\n",
    "import numbers\n",
    "assert isinstance(feedback_difficulty, numbers.Number), \"Please assign a number to feedback_difficulty\"\n",
    "feedback_difficulty"
   ]
  },
  {
   "cell_type": "markdown",
   "metadata": {},
   "source": [
    "### (Optional) What did you like?\n",
    "\n",
    "Assign a string to `feedback_like`."
   ]
  },
  {
   "cell_type": "code",
   "execution_count": null,
   "metadata": {},
   "outputs": [],
   "source": [
    "#// BEGIN_TODO [Feedback_3] (0 point)\n",
    "\n",
    "# ===== =====> Replace this line by your code. <===== ===== #\n",
    "\n",
    "#// END_TODO [Feedback_3] (0 point)"
   ]
  },
  {
   "cell_type": "markdown",
   "metadata": {},
   "source": [
    "### (Optional) What can be improved?\n",
    "\n",
    "Assign a string to `feedback_improve`."
   ]
  },
  {
   "cell_type": "code",
   "execution_count": null,
   "metadata": {},
   "outputs": [],
   "source": [
    "#// BEGIN_TODO [Feedback_4] (0 point)\n",
    "\n",
    "# ===== =====> Replace this line by your code. <===== ===== #\n",
    "\n",
    "#// END_TODO [Feedback_4] (0 point)"
   ]
  },
  {
   "cell_type": "markdown",
   "metadata": {},
   "source": [
    "\n",
    "\n",
    "\n",
    "## How to submit your work\n",
    "\n",
    "1. **Before submitting**, you must run your notebook by doing **Kernel > Restart & Run All**.  \n",
    "   Make sure that your notebook runs without errors **in linear order**.\n",
    "\n",
    "2. Remember to rename the notebook, replacing `...-template.ipynb` with `...-yourIDnr.ipynb`, where `yourIDnr` is your TU/e identification number.\n",
    "\n",
    "3. Submit the executed notebook with your work\n",
    "   for the appropriate assignment in **Canvas**.\n",
    "\n",
    "* In the **Momotor** tab in Canvas,\n",
    "  you can select that assignment again to find some feedback on your submitted work.\n",
    "  \n",
    "* If there are any problems reported by _Momotor_,\n",
    "  then you need to fix those,\n",
    "  and **resubmit the fixed notebook**.\n",
    "\n",
    "In case of a high workload on our server\n",
    "(because many students submit close to the deadline),\n",
    "it may take longer to receive the feedback.\n"
   ]
  },
  {
   "cell_type": "markdown",
   "metadata": {},
   "source": [
    "---"
   ]
  },
  {
   "cell_type": "code",
   "execution_count": null,
   "metadata": {},
   "outputs": [],
   "source": [
    "# List all defined names\n",
    "%whos"
   ]
  },
  {
   "cell_type": "markdown",
   "metadata": {},
   "source": [
    "---\n",
    "\n",
    "# (End of Notebook) <span class=\"tocSkip\"></span>\n",
    "\n",
    "&copy; 2017-2019 - **TU/e** - Eindhoven University of Technology"
   ]
  }
 ],
 "metadata": {
  "kernelspec": {
   "display_name": "Python 3",
   "language": "python",
   "name": "python3"
  },
  "language_info": {
   "codemirror_mode": {
    "name": "ipython",
    "version": 3
   },
   "file_extension": ".py",
   "mimetype": "text/x-python",
   "name": "python",
   "nbconvert_exporter": "python",
   "pygments_lexer": "ipython3",
   "version": "3.8.5"
  },
  "toc": {
   "base_numbering": 1,
   "nav_menu": {
    "height": "174px",
    "width": "252px"
   },
   "number_sections": false,
   "sideBar": true,
   "skip_h1_title": false,
   "title_cell": "Table of Contents",
   "title_sidebar": "Contents",
   "toc_cell": true,
   "toc_position": {
    "height": "652px",
    "left": "0px",
    "right": "1041px",
    "top": "107px",
    "width": "235px"
   },
   "toc_section_display": "block",
   "toc_window_display": true
  }
 },
 "nbformat": 4,
 "nbformat_minor": 2
}